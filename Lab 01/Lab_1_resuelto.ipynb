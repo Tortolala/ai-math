{
 "cells": [
  {
   "cell_type": "markdown",
   "id": "98da79ae",
   "metadata": {},
   "source": [
    "# Tarea 1 \n",
    "\n",
    "**Nombre:** Luis Angel Tórtola  \n",
    "**Carnet:** 25007713\n",
    "\n",
    "---\n"
   ]
  },
  {
   "cell_type": "markdown",
   "id": "a722746b",
   "metadata": {},
   "source": [
    "## Instrucciones\n",
    "\n",
    "En las siguientes celdas se tienen datos generados sintéticamente que representan las ventas de 8 productos en varias tiendas ubicadas en 10 departamentos de Guatemala y en 10 almacenes. Los datos están representados por una fila que proviene de un tensor de la siguiente forma:\n",
    "\n",
    "$$   a_{ijk} = \\text{Ventas del Producto}_i \\text{ en el Departamento}_j $$\n",
    "\n",
    "Si $k = 0$, es en una tienda; si $k = 1$, es en un almacén. Adicionalmente, se cuenta con el costo y el precio de venta de cada uno de los productos. Tome en cuenta que el costo de cada producto varía según sea una tienda o un almacén, y también depende del lugar. El tensor de precios está representado por:\n",
    "$$ b_{ijk} = \\text{Precios del Producto}_i \\text{ en el Departamento}_j $$\n",
    "\n",
    "1. Re-construya el tensor de ventas.\n",
    "2. Construya un vector columna con el total de ventas de cada producto vendidos en todas las tiendas.\n",
    " - Calcule usando suma de ejes.\n",
    " - Calcule como un producto matricial usando np.ones(...).\n",
    " - Despliegue los resultados por producto.\n",
    "3. Construya una matriz de precios $p_{ik}$ con los datos proporcionados y utilicela para calcular el costo total por departamento.\n",
    "4. Calcule el total de ventas por producto utilizando los datos de los precios de venta.\n",
    "5. Calcule el total de ganancias por producto.\n",
    "6. Calcule el total de ganancias por departamento.\n",
    "5. Calcule el total de ganancias.\n",
    "\n",
    "Escriba cada una de las soluciones en dos celdas una en markdown con la ecuación correspondiente e.g. total de ventas $\\sum_{i,j,k} a_{ijk}$. Y una de código con la implementación en Numpy."
   ]
  },
  {
   "cell_type": "code",
   "execution_count": 1,
   "id": "52774605",
   "metadata": {},
   "outputs": [],
   "source": [
    "import numpy as np\n",
    "\n",
    "\n",
    "# Ventas\n",
    "ventas = np.array(\n",
    "     [18, 13, 26, 19, 28, 12, 22, 8, 9, 28, 24, 25, 27, 19, 21, 15,\n",
    "      22, 22, 7, 32, 6, 17, 16, 6, 34, 15, 26, 12, 6, 10, 11, 34,\n",
    "      11, 6, 20, 34, 14, 13, 21, 31, 10, 26, 16, 27, 27, 24, 15,\n",
    "      14, 6, 34, 33, 20, 24, 32, 13, 29, 8, 31, 13, 14, 23, 11, 8,\n",
    "      34, 21, 22, 6, 23, 30, 22, 11, 23, 34, 19, 28, 28, 23, 22, 17,\n",
    "      7, 10, 21, 11, 17, 9, 31, 24, 6, 33, 18, 30, 5, 25, 19, 5, 23,\n",
    "      27, 23, 7, 11, 26, 33, 16, 26, 30, 11, 17, 21, 29, 21, 11, 6,\n",
    "      31, 32, 21, 19, 5, 16, 5, 31, 30, 15, 25, 11, 10, 26, 30, 20, \n",
    "      12, 5, 26, 7, 33, 20, 20, 14, 28, 6, 9, 9, 21, 15, 5, 13, 27, \n",
    "      15, 29, 18, 25, 22, 5, 15, 11, 27, 16, 19, 20, 26, 12, 34])\n",
    "\n",
    "# Costos\n",
    "costos = np.array(\n",
    "  [\n",
    "    [ [0.51, 0.98, ],[0.56, 0.91, ],[0.38, 0.97, ],[0.44, 0.87, ],[0.65, 0.9, ],[0.36, 0.55, ],[0.4, 0.76, ],[0.46, 0.61, ],[0.58, 0.85, ],[0.64, 0.65, ], ],\n",
    "    [ [0.56, 0.6, ],[0.54, 0.51, ],[0.46, 0.58, ],[0.69, 0.48, ],[0.57, 0.78, ],[0.62, 0.65, ],[0.6, 0.76, ],[0.65, 0.52, ],[0.72, 0.74, ],[0.58, 0.64, ], ],\n",
    "    [ [0.42, 0.84, ],[0.47, 0.64, ],[0.32, 0.51, ],[0.33, 0.52, ],[0.39, 0.68, ],[0.39, 0.84, ],[0.45, 0.8, ],[0.52, 0.83, ],[0.36, 0.68, ],[0.49, 0.66, ], ],\n",
    "    [ [0.47, 0.67, ],[0.63, 0.54, ],[0.43, 0.58, ],[0.41, 0.5, ],[0.53, 0.47, ],[0.48, 0.62, ],[0.54, 0.69, ],[0.57, 0.51, ],[0.38, 0.42, ],[0.58, 0.74, ], ],\n",
    "    [ [0.93, 1.4, ],[1.28, 1.24, ],[1.28, 1.38, ],[0.89, 1.61, ],[1.05, 1.34, ],[1.26, 1.17, ],[1.02, 1.5, ],[1.05, 1.75, ],[1.11, 1.27, ],[1.34, 1.51, ], ],\n",
    "    [ [1.24, 1.36, ],[1.47, 1.54, ],[1.38, 1.06, ],[1.13, 1.77, ],[1.12, 1.76, ],[1.1, 1.34, ],[1.1, 1.08, ],[0.96, 1.84, ],[1.31, 1.49, ],[1.02, 1.85, ], ],\n",
    "    [ [0.89, 1.26, ],[0.82, 0.79, ],[0.72, 0.97, ],[0.97, 1.28, ],[0.96, 1.2, ],[0.86, 0.74, ],[0.94, 1.27, ],[0.98, 1.05, ],[0.61, 1.0, ],[0.63, 1.26, ], ],\n",
    "    [ [0.07, 0.13, ],[0.1, 0.12, ],[0.08, 0.12, ],[0.09, 0.19, ],[0.06, 0.13, ],[0.08, 0.15, ],[0.1, 0.12, ],[0.09, 0.15, ],[0.08, 0.12, ],[0.11, 0.2, ], ]\n",
    "  ]\n",
    ")\n",
    "\n",
    "# Indice departamentos\n",
    "index_depto = { 0: \"Guatemala\", 1: \"Huehuetenango\", 2: \"Alta Verapaz\", 3: \"Quiché\",\n",
    "   4: \"Escuintla\", 5: \"Jutiapa\", 6: \"San Marcos\", 7: \"Suchitepéquez\", 8: \"Chimaltenango\",\n",
    "   9: \"Jalapa\" }\n",
    "\n",
    "# Indice productos\n",
    "index_prod = {'frijol': 4, 'maíz': 2, 'aceite': 1, 'frituras': 7, 'pasta': 0, 'agua': 3, 'arina maíz': 6, 'arina trigo': 5}\n",
    "\n",
    "# Precios de venta por producto -- son iguales en todas los departamentos\n",
    "precio_venta_almacen = {'pasta': 1.5, 'agua': 1.5, 'arina maíz': 2.25, 'arina trigo': 3.75, 'frijol': 3.25, 'maíz': 1.25, 'aceite': 1.75, 'frituras': 0.25 }\n",
    "\n",
    "precio_venta_tienda = {'pasta': 2.25, 'agua': 1.75, 'arina maíz': 3.0, 'arina trigo': 4.25, 'frijol': 4.00, 'maíz': 2.00, 'aceite': 2.00, 'frituras': 0.45 }\n"
   ]
  },
  {
   "cell_type": "markdown",
   "id": "29badd60",
   "metadata": {},
   "source": [
    "# Resolución\n",
    "---\n",
    "\n"
   ]
  },
  {
   "cell_type": "markdown",
   "id": "8f0cb4b1",
   "metadata": {},
   "source": [
    "**1) Re-construya el tensor de ventas.**\n",
    "\n",
    "Convertimos el tensor de ventas en la forma $(8 \\times 10 \\times 2)$."
   ]
  },
  {
   "cell_type": "code",
   "execution_count": 2,
   "id": "63bda5ca",
   "metadata": {},
   "outputs": [
    {
     "name": "stdout",
     "output_type": "stream",
     "text": [
      "Shape nueva: (8, 10, 2)\n",
      "\n",
      "Primer elemento (producto):\n",
      " [[18 13]\n",
      " [26 19]\n",
      " [28 12]\n",
      " [22  8]\n",
      " [ 9 28]\n",
      " [24 25]\n",
      " [27 19]\n",
      " [21 15]\n",
      " [22 22]\n",
      " [ 7 32]]\n"
     ]
    }
   ],
   "source": [
    "# i productos, j departamento, k tipo locación\n",
    "ventas = ventas.reshape(8, 10, 2)\n",
    "print(f'Shape nueva: {ventas.shape}')\n",
    "print(f'\\nPrimer elemento (producto):\\n {ventas[0]}')\n"
   ]
  },
  {
   "cell_type": "markdown",
   "id": "4c0a770f",
   "metadata": {},
   "source": [
    "**2) Construya un vector columna con el total de ventas de cada producto vendidos en todas las tiendas.**  \n",
    "<br>\n",
    "2.1) Calcule usando suma de ejes.\n"
   ]
  },
  {
   "cell_type": "code",
   "execution_count": 3,
   "id": "4f16c91e",
   "metadata": {},
   "outputs": [
    {
     "name": "stdout",
     "output_type": "stream",
     "text": [
      "[[204]\n",
      " [165]\n",
      " [165]\n",
      " [201]\n",
      " [181]\n",
      " [191]\n",
      " [223]\n",
      " [171]]\n"
     ]
    }
   ],
   "source": [
    "ventas_columna = np.sum(ventas[:, :, 0], axis=1).reshape(-1, 1)\n",
    "#print(np.transpose(ventas_columna))\n",
    "print(ventas_columna)"
   ]
  },
  {
   "cell_type": "markdown",
   "id": "59b8858d",
   "metadata": {},
   "source": [
    "2.2) Calcule como un producto matricial usando np.ones(...).  "
   ]
  },
  {
   "cell_type": "code",
   "execution_count": 4,
   "id": "2105394e",
   "metadata": {},
   "outputs": [
    {
     "name": "stdout",
     "output_type": "stream",
     "text": [
      "[[204.]\n",
      " [165.]\n",
      " [165.]\n",
      " [201.]\n",
      " [181.]\n",
      " [191.]\n",
      " [223.]\n",
      " [171.]]\n"
     ]
    }
   ],
   "source": [
    "num_departamentos = ventas.shape[1]\n",
    "\n",
    "vector_unos = np.ones((num_departamentos, 1)) # Crear un vector de unos para sumar por producto\n",
    "\n",
    "ventas_tiendas_mat = np.dot(ventas[:, :, 0], vector_unos)\n",
    "\n",
    "print(ventas_tiendas_mat)\n"
   ]
  },
  {
   "cell_type": "markdown",
   "id": "322c3597",
   "metadata": {},
   "source": [
    "2.3) Despliegue los resultados por producto."
   ]
  },
  {
   "cell_type": "code",
   "execution_count": 5,
   "id": "06e66249",
   "metadata": {},
   "outputs": [
    {
     "name": "stdout",
     "output_type": "stream",
     "text": [
      "Total vendidos por producto: \n",
      "\n",
      "Frijol: 181\n",
      "Maíz: 165\n",
      "Aceite: 165\n",
      "Frituras: 171\n",
      "Pasta: 204\n",
      "Agua: 201\n",
      "Arina maíz: 223\n",
      "Arina trigo: 191\n"
     ]
    }
   ],
   "source": [
    "print('Total vendidos por producto: \\n')\n",
    "\n",
    "for key, value in index_prod.items(): \n",
    "    # print(key, value)\n",
    "    print(f'{key.capitalize()}: {ventas_columna[value][0]}')\n"
   ]
  },
  {
   "cell_type": "markdown",
   "id": "d55f7613",
   "metadata": {},
   "source": [
    "**3. Construya una matriz de precios $p_{ik}$ con los datos proporcionados y utilicela para calcular el costo total por departamento.**"
   ]
  },
  {
   "cell_type": "code",
   "execution_count": 6,
   "id": "4e673478",
   "metadata": {},
   "outputs": [
    {
     "name": "stdout",
     "output_type": "stream",
     "text": [
      "[[2.25 1.5 ]\n",
      " [1.75 1.5 ]\n",
      " [3.   2.25]\n",
      " [4.25 3.75]\n",
      " [4.   3.25]\n",
      " [2.   1.25]\n",
      " [2.   1.75]\n",
      " [0.45 0.25]]\n"
     ]
    }
   ],
   "source": [
    "productos = list(precio_venta_tienda.keys())  # Lista de productos en el mismo orden\n",
    "\n",
    "# Matriz de precios vacía de (8x2)\n",
    "precios = np.zeros((8, 2))\n",
    "# precios\n",
    "\n",
    "# Llenar matriz con los precios en los diccionarios\n",
    "for i, producto in enumerate(productos):\n",
    "    precios[i, 0] = precio_venta_tienda[producto] \n",
    "    precios[i, 1] = precio_venta_almacen[producto]\n",
    "\n",
    "# print(precios.shape)\n",
    "print(precios)\n"
   ]
  },
  {
   "cell_type": "markdown",
   "id": "7f841a51",
   "metadata": {},
   "source": [
    "**4. Calcule el total de ventas por producto utilizando los datos de los precios de venta.**\n"
   ]
  },
  {
   "cell_type": "code",
   "execution_count": 7,
   "id": "620be20c",
   "metadata": {},
   "outputs": [
    {
     "data": {
      "text/plain": [
       "array([ 748.5 ,  555.75, 1059.75, 1645.5 , 1289.5 ,  652.  ,  678.75,\n",
       "        127.95])"
      ]
     },
     "execution_count": 7,
     "metadata": {},
     "output_type": "execute_result"
    }
   ],
   "source": [
    "ventas_producto = np.sum(ventas, axis=1)\n",
    "# ventas_producto\n",
    "total_ventas_por_producto_y_locacion = (ventas_producto * precios)\n",
    "total_ventas_por_producto_y_locacion\n",
    "total_ventas_por_producto = np.sum(total_ventas_por_producto_y_locacion, axis=1)\n",
    "total_ventas_por_producto"
   ]
  },
  {
   "cell_type": "code",
   "execution_count": 8,
   "id": "2c563080",
   "metadata": {},
   "outputs": [
    {
     "name": "stdout",
     "output_type": "stream",
     "text": [
      "Ventas por producto: \n",
      "\n",
      "Frijol: 1289.5\n",
      "Maíz: 1059.75\n",
      "Aceite: 555.75\n",
      "Frituras: 127.95\n",
      "Pasta: 748.5\n",
      "Agua: 1645.5\n",
      "Arina maíz: 678.75\n",
      "Arina trigo: 652.0\n"
     ]
    }
   ],
   "source": [
    "print('Ventas por producto: \\n')\n",
    "for key, value in index_prod.items(): \n",
    "    print(f'{key.capitalize()}: {total_ventas_por_producto[value]}')"
   ]
  },
  {
   "cell_type": "markdown",
   "id": "c632de65",
   "metadata": {},
   "source": [
    "**5. Calcule el total de ganancias por producto.**\n"
   ]
  },
  {
   "cell_type": "code",
   "execution_count": 9,
   "id": "f03372f3",
   "metadata": {},
   "outputs": [
    {
     "data": {
      "text/plain": [
       "array([ 501.58,  348.75,  813.87, 1427.66,  843.23,   95.68,  340.97,\n",
       "         84.  ])"
      ]
     },
     "execution_count": 9,
     "metadata": {},
     "output_type": "execute_result"
    }
   ],
   "source": [
    "ventas_producto = np.sum(ventas, axis=1)\n",
    "\n",
    "# costos.shape\n",
    "costos_totales = ventas * costos\n",
    "\n",
    "costos_producto = np.sum(costos_totales, axis=1)\n",
    "# costos_producto\n",
    "\n",
    "total_ventas_por_producto_y_locacion = (ventas_producto * precios)\n",
    "# total_ventas_por_producto_y_locacion\n",
    "\n",
    "ganancias_por_producto_y_locacion = total_ventas_por_producto_y_locacion - costos_producto\n",
    "ganancias_por_producto_y_locacion\n",
    "\n",
    "total_ganancias_por_producto = np.sum(ganancias_por_producto_y_locacion, axis=1)\n",
    "total_ganancias_por_producto"
   ]
  },
  {
   "cell_type": "code",
   "execution_count": 10,
   "id": "baaf7597",
   "metadata": {},
   "outputs": [
    {
     "name": "stdout",
     "output_type": "stream",
     "text": [
      "Ganancias por producto: \n",
      "\n",
      "Frijol: 843.23\n",
      "Maíz: 813.87\n",
      "Aceite: 348.75\n",
      "Frituras: 84.0\n",
      "Pasta: 501.58\n",
      "Agua: 1427.66\n",
      "Arina maíz: 340.97\n",
      "Arina trigo: 95.67999999999998\n"
     ]
    }
   ],
   "source": [
    "print('Ganancias por producto: \\n')\n",
    "for key, value in index_prod.items(): \n",
    "    print(f'{key.capitalize()}: {total_ganancias_por_producto[value]}')"
   ]
  },
  {
   "cell_type": "markdown",
   "id": "e66d4cb7",
   "metadata": {},
   "source": [
    "**6. Calcule el total de ganancias por departamento.**"
   ]
  },
  {
   "cell_type": "code",
   "execution_count": 11,
   "id": "ec0da87e",
   "metadata": {},
   "outputs": [
    {
     "data": {
      "text/plain": [
       "array([379.91, 411.03, 528.62, 386.89, 472.44, 480.25, 566.01, 471.18,\n",
       "       484.78, 274.63])"
      ]
     },
     "execution_count": 11,
     "metadata": {},
     "output_type": "execute_result"
    }
   ],
   "source": [
    "# Costos por departamento\n",
    "costos_totales = ventas * costos\n",
    "# costos_totales\n",
    "costos_depto = np.sum(costos_totales, axis=(0, 2))\n",
    "# costos_depto.shape\n",
    "# costos_depto\n",
    "\n",
    "# Total ventas (ingresos) por departamento\n",
    "precios_full = np.broadcast_to(np.expand_dims(precios, axis=1), (8, 10, 2))\n",
    "total_ventas = ventas * precios_full\n",
    "total_ventas_depto = np.sum(total_ventas, axis=(0, 2))\n",
    "# total_ventas_depto.shape\n",
    "# total_ventas_depto\n",
    "\n",
    "ganancias_por_depto = total_ventas_depto - costos_depto\n",
    "ganancias_por_depto.shape\n",
    "ganancias_por_depto"
   ]
  },
  {
   "cell_type": "code",
   "execution_count": 12,
   "id": "eac2ebe1",
   "metadata": {},
   "outputs": [
    {
     "name": "stdout",
     "output_type": "stream",
     "text": [
      "Ganancias por departamento: \n",
      "\n",
      "Guatemala: 379.9100000000001\n",
      "Huehuetenango: 411.03\n",
      "Alta verapaz: 528.62\n",
      "Quiché: 386.89\n",
      "Escuintla: 472.43999999999994\n",
      "Jutiapa: 480.25\n",
      "San marcos: 566.01\n",
      "Suchitepéquez: 471.18000000000006\n",
      "Chimaltenango: 484.78\n",
      "Jalapa: 274.63\n"
     ]
    }
   ],
   "source": [
    "print('Ganancias por departamento: \\n')\n",
    "for key, value in index_depto.items(): \n",
    "    print(f'{value.capitalize()}: {ganancias_por_depto[key]}')"
   ]
  },
  {
   "cell_type": "markdown",
   "id": "43d589f5",
   "metadata": {},
   "source": [
    "**7. Calcule el total de ganancias.**"
   ]
  },
  {
   "cell_type": "code",
   "execution_count": 13,
   "id": "95afe10f",
   "metadata": {},
   "outputs": [
    {
     "name": "stdout",
     "output_type": "stream",
     "text": [
      "Total ganancias: 4455.74\n"
     ]
    }
   ],
   "source": [
    "total_ganancias = total_ganancias_por_producto.sum()\n",
    "\n",
    "print(f'Total ganancias: {total_ganancias}')"
   ]
  },
  {
   "cell_type": "code",
   "execution_count": null,
   "id": "b49dc208",
   "metadata": {},
   "outputs": [],
   "source": []
  }
 ],
 "metadata": {
  "kernelspec": {
   "display_name": "Python 3",
   "language": "python",
   "name": "python3"
  },
  "language_info": {
   "codemirror_mode": {
    "name": "ipython",
    "version": 3
   },
   "file_extension": ".py",
   "mimetype": "text/x-python",
   "name": "python",
   "nbconvert_exporter": "python",
   "pygments_lexer": "ipython3",
   "version": "3.9.6"
  },
  "name": "Untitled.ipynb"
 },
 "nbformat": 4,
 "nbformat_minor": 5
}
