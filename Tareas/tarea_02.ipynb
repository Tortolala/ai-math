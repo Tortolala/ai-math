{
 "cells": [
  {
   "cell_type": "markdown",
   "metadata": {},
   "source": [
    "# Tarea 2\n",
    "\n",
    "**Nombre:** Luis Angel Tórtola  \n",
    "**Carnet:** 25007713\n",
    "\n",
    "---"
   ]
  },
  {
   "cell_type": "code",
   "execution_count": 173,
   "metadata": {},
   "outputs": [],
   "source": [
    "from copy import deepcopy\n",
    "import sympy as sym\n",
    "import numpy as np \n",
    "import scipy"
   ]
  },
  {
   "cell_type": "markdown",
   "metadata": {},
   "source": [
    "### Ejercicio 1\n",
    "\n",
    "Considera el sistema de ecuaciones lineales:  \n",
    "\n",
    "<br>\n",
    "\n",
    "$x + 2y + z = 4$  \n",
    "$2x− y + 3z = 1$  \n",
    "$3x + y + 2z = 7$\n",
    "\n",
    "<br>\n",
    "\n",
    "**1)** Escribe el sistema en su forma matricial"
   ]
  },
  {
   "cell_type": "code",
   "execution_count": 174,
   "metadata": {},
   "outputs": [
    {
     "name": "stdout",
     "output_type": "stream",
     "text": [
      "Shape: (3, 3)\n",
      "\n",
      "A:\n",
      "[[ 1  2  1]\n",
      " [ 2 -1  3]\n",
      " [ 3  1  2]]\n"
     ]
    }
   ],
   "source": [
    "A = np.array([[1, 2, 1],\n",
    "              [2, -1, 3],\n",
    "              [3, 1, 2]])\n",
    "\n",
    "print(f'Shape: {A.shape}')\n",
    "print(f'\\nA:\\n{A}')"
   ]
  },
  {
   "cell_type": "markdown",
   "metadata": {},
   "source": [
    "\n",
    "**2)** Escribe la matriz aumentada correspondiente al sistema\n"
   ]
  },
  {
   "cell_type": "code",
   "execution_count": 175,
   "metadata": {},
   "outputs": [
    {
     "name": "stdout",
     "output_type": "stream",
     "text": [
      "Shape: (3, 4)\n",
      "\n",
      "A aumentada:\n",
      "[[ 1  2  1  4]\n",
      " [ 2 -1  3  1]\n",
      " [ 3  1  2  7]]\n"
     ]
    }
   ],
   "source": [
    "A_ = np.array([[1, 2, 1, 4],\n",
    "               [2, -1, 3, 1],\n",
    "               [3, 1, 2, 7]])\n",
    "\n",
    "print(f'Shape: {A_.shape}')\n",
    "print(f'\\nA aumentada:\\n{A_}')"
   ]
  },
  {
   "cell_type": "markdown",
   "metadata": {},
   "source": [
    "**3)** Utiliza scipy para calcular la rref de la matriz aumentada y resolver el\n",
    "sistema de ecuaciones"
   ]
  },
  {
   "cell_type": "code",
   "execution_count": 176,
   "metadata": {},
   "outputs": [
    {
     "name": "stdout",
     "output_type": "stream",
     "text": [
      "Solución del sistema: [ 2.6  1.2 -1. ]\n"
     ]
    }
   ],
   "source": [
    "B = np.array([4, 1, 7])\n",
    "solution = scipy.linalg.solve(A, B)\n",
    "\n",
    "print(f'Solución del sistema: {solution}')"
   ]
  },
  {
   "cell_type": "markdown",
   "metadata": {},
   "source": [
    "---\n",
    "### Ejercicio 2\n",
    "\n",
    "Dada la matriz:\n",
    "\n",
    "<br>\n",
    "\n",
    "$A = \\begin{pmatrix} 1 & 3 & 5 \\\\ 2 & 4 & 6 \\\\ 0 & 1 & -1 \\end{pmatrix}$  \n",
    "\n",
    "<br>\n",
    "\n",
    "**1)** Intercambia las dos filas  \n",
    "\n",
    "**2)** Multiplica la primera fila por -3  \n",
    "\n",
    "**3)** Suma 2 veces la segunda fila a la primera fila   \n",
    "\n",
    "**4)** Escribe las matrices elementales asociadas a las operaciones de los incisos anteriores"
   ]
  },
  {
   "cell_type": "code",
   "execution_count": 177,
   "metadata": {},
   "outputs": [],
   "source": [
    "matrices = []\n",
    "\n",
    "A = np.array([[1, 3, 5], \n",
    "              [2, 4, 6],\n",
    "              [0, 1, -1]])\n",
    "\n",
    "matrices.append(deepcopy(A))"
   ]
  },
  {
   "cell_type": "markdown",
   "metadata": {},
   "source": [
    "$R_1 \\leftrightarrow R_2:$"
   ]
  },
  {
   "cell_type": "code",
   "execution_count": 178,
   "metadata": {},
   "outputs": [],
   "source": [
    "temp = deepcopy(A[0])\n",
    "A[0] = deepcopy(A[1])\n",
    "A[1] = temp\n",
    "\n",
    "matrices.append(deepcopy(A))"
   ]
  },
  {
   "cell_type": "markdown",
   "metadata": {},
   "source": [
    "$R_1 = -3R_1:$"
   ]
  },
  {
   "cell_type": "code",
   "execution_count": 179,
   "metadata": {},
   "outputs": [],
   "source": [
    "A[0] = -3 * A[0]\n",
    "\n",
    "matrices.append(deepcopy(A))"
   ]
  },
  {
   "cell_type": "markdown",
   "metadata": {},
   "source": [
    "$R_1 = R_1 + 2R_2:$"
   ]
  },
  {
   "cell_type": "code",
   "execution_count": 180,
   "metadata": {},
   "outputs": [],
   "source": [
    "A[0] = A[0] + (2 * A[1])\n",
    "\n",
    "matrices.append(deepcopy(A))"
   ]
  },
  {
   "cell_type": "code",
   "execution_count": 181,
   "metadata": {},
   "outputs": [
    {
     "name": "stdout",
     "output_type": "stream",
     "text": [
      "\n",
      "A: \n",
      "[[ 1  3  5]\n",
      " [ 2  4  6]\n",
      " [ 0  1 -1]]\n",
      "\n",
      "A: \n",
      "[[ 2  4  6]\n",
      " [ 1  3  5]\n",
      " [ 0  1 -1]]\n",
      "\n",
      "A: \n",
      "[[ -6 -12 -18]\n",
      " [  1   3   5]\n",
      " [  0   1  -1]]\n",
      "\n",
      "A: \n",
      "[[-4 -6 -8]\n",
      " [ 1  3  5]\n",
      " [ 0  1 -1]]\n"
     ]
    }
   ],
   "source": [
    "for matrix in matrices:\n",
    "    print(f'\\nA: \\n{matrix}')"
   ]
  },
  {
   "cell_type": "markdown",
   "metadata": {},
   "source": [
    "---\n",
    "### Ejercicio 3\n",
    "\n",
    "Dada la matriz:\n",
    "\n",
    "<br>\n",
    "\n",
    "$A = \\begin{pmatrix} 2 & -1 & 0 & 1 \\\\ 1 & 1 & 3 & 3 \\\\ 3 & 0 & -1 & 4 \\end{pmatrix}$  \n",
    "\n",
    "<br>\n",
    "\n",
    "Resuelve el siguiente sistema usando Simpy y Numpy para encontrar su RREF"
   ]
  },
  {
   "cell_type": "code",
   "execution_count": 182,
   "metadata": {},
   "outputs": [
    {
     "name": "stdout",
     "output_type": "stream",
     "text": [
      "\n",
      "RREF de A:\n",
      "[1, 0, 0, 4/3]\n",
      "[0, 1, 0, 5/3]\n",
      "[0, 0, 1, 0]\n"
     ]
    }
   ],
   "source": [
    "A = np.array([[2, -1, 0, 1],\n",
    "              [1, 1, 3, 3],\n",
    "              [3, 0, -1, 4]])\n",
    "\n",
    "A_rref = sym.Matrix(A).rref()[0]\n",
    "\n",
    "print('\\nRREF de A:')\n",
    "for i in range(0, 12, 4):\n",
    "    print(A_rref[i:i+4])"
   ]
  },
  {
   "cell_type": "markdown",
   "metadata": {},
   "source": [
    "Solución del sistema: $x = 1.\\overline{33}, y = 1.\\overline{66}, z = 0$"
   ]
  },
  {
   "cell_type": "markdown",
   "metadata": {},
   "source": [
    "---\n",
    "### Ejercicio 4\n",
    "\n",
    "Utiliza el método de Gauss-Jordan para encontrar la forma escalonada reducida por filas de la siguiente matriz:\n",
    "\n",
    "<br>\n",
    "\n",
    "$A = \\begin{pmatrix} 1 & -1 & 2 & 4 \\\\ 2 & -2 & 3 & 6 \\\\ -3 & 3 & -1 & -3 \\end{pmatrix}$  \n",
    "\n",
    "<br>\n",
    "\n",
    "Describe cada paso y las operaciones elementales que realizadas..."
   ]
  },
  {
   "cell_type": "code",
   "execution_count": 183,
   "metadata": {},
   "outputs": [
    {
     "name": "stdout",
     "output_type": "stream",
     "text": [
      "\n",
      "A: \n",
      "[[ 1 -1  2  4]\n",
      " [ 2 -2  3  6]\n",
      " [-3  3 -1 -3]]\n"
     ]
    }
   ],
   "source": [
    "A = np.array([[1, -1, 2, 4],\n",
    "              [2, -2, 3, 6],\n",
    "              [-3, 3, -1, -3]])\n",
    "\n",
    "print(f'\\nA: \\n{A}')"
   ]
  },
  {
   "cell_type": "markdown",
   "metadata": {},
   "source": [
    "**Paso 1:** Restamos la primera fila multiplicada por 2, a la segunda fila.  \n",
    "\n",
    "$R_2 = R_2 - 2R_1$"
   ]
  },
  {
   "cell_type": "code",
   "execution_count": 184,
   "metadata": {},
   "outputs": [
    {
     "name": "stdout",
     "output_type": "stream",
     "text": [
      "\n",
      "A: \n",
      "[[ 1 -1  2  4]\n",
      " [ 0  0 -1 -2]\n",
      " [-3  3 -1 -3]]\n"
     ]
    }
   ],
   "source": [
    "A[1] = A[1] - (2 * A[0])\n",
    "\n",
    "print(f'\\nA: \\n{A}')"
   ]
  },
  {
   "cell_type": "markdown",
   "metadata": {},
   "source": [
    "**Paso 2:** Sumamos la primera fila multiplicada por 3, a la tercera fila.  \n",
    "\n",
    "$R_3 = R_3 - 3R_1$"
   ]
  },
  {
   "cell_type": "code",
   "execution_count": 185,
   "metadata": {},
   "outputs": [
    {
     "name": "stdout",
     "output_type": "stream",
     "text": [
      "\n",
      "A: \n",
      "[[ 1 -1  2  4]\n",
      " [ 0  0 -1 -2]\n",
      " [ 0  0  5  9]]\n"
     ]
    }
   ],
   "source": [
    "A[2] = A[2] + (3 * A[0])\n",
    "\n",
    "print(f'\\nA: \\n{A}')"
   ]
  },
  {
   "cell_type": "markdown",
   "metadata": {},
   "source": [
    "**Paso 3:** Multiplicamos la segunda fila por -1.  \n",
    "\n",
    "$R_2 = -1R_2$"
   ]
  },
  {
   "cell_type": "code",
   "execution_count": 186,
   "metadata": {},
   "outputs": [
    {
     "name": "stdout",
     "output_type": "stream",
     "text": [
      "\n",
      "A: \n",
      "[[ 1 -1  2  4]\n",
      " [ 0  0  1  2]\n",
      " [ 0  0  5  9]]\n"
     ]
    }
   ],
   "source": [
    "A[1] = -1 * A[1]\n",
    "\n",
    "print(f'\\nA: \\n{A}')"
   ]
  },
  {
   "cell_type": "markdown",
   "metadata": {},
   "source": [
    "**Paso 4:** Restamos la segunda fila multiplicada por 2, a la primera fila.  \n",
    "\n",
    "$R_1 = R_1 - 2R_2$"
   ]
  },
  {
   "cell_type": "code",
   "execution_count": 187,
   "metadata": {},
   "outputs": [
    {
     "name": "stdout",
     "output_type": "stream",
     "text": [
      "\n",
      "A: \n",
      "[[ 1 -1  0  0]\n",
      " [ 0  0  1  2]\n",
      " [ 0  0  5  9]]\n"
     ]
    }
   ],
   "source": [
    "A[0] = A[0] - (2 * A[1])\n",
    "\n",
    "print(f'\\nA: \\n{A}')"
   ]
  },
  {
   "cell_type": "markdown",
   "metadata": {},
   "source": [
    "**Paso 5:** Restamos la segunda fila multiplicada por 5, a la tercera fila.  \n",
    "\n",
    "$R_3 = R_3 - 5R_2$"
   ]
  },
  {
   "cell_type": "code",
   "execution_count": 188,
   "metadata": {},
   "outputs": [
    {
     "name": "stdout",
     "output_type": "stream",
     "text": [
      "\n",
      "A: \n",
      "[[ 1 -1  0  0]\n",
      " [ 0  0  1  2]\n",
      " [ 0  0  0 -1]]\n"
     ]
    }
   ],
   "source": [
    "A[2] = A[2] - (5 * A[1])\n",
    "\n",
    "print(f'\\nA: \\n{A}')"
   ]
  },
  {
   "cell_type": "markdown",
   "metadata": {},
   "source": [
    "**Paso 6:** Multiplicamos la tercera fila por -1.  \n",
    "\n",
    "$R_3 = -1R_3$"
   ]
  },
  {
   "cell_type": "code",
   "execution_count": 189,
   "metadata": {},
   "outputs": [
    {
     "name": "stdout",
     "output_type": "stream",
     "text": [
      "\n",
      "A: \n",
      "[[ 1 -1  0  0]\n",
      " [ 0  0  1  2]\n",
      " [ 0  0  0  1]]\n"
     ]
    }
   ],
   "source": [
    "A[2] = -1 * A[2]\n",
    "\n",
    "print(f'\\nA: \\n{A}')"
   ]
  },
  {
   "cell_type": "markdown",
   "metadata": {},
   "source": [
    "**Paso 7:** Restamos la tercera fila multiplicada por 2, a la segunda fila.  \n",
    "\n",
    "$R_2 = R_2 - 2R_3$"
   ]
  },
  {
   "cell_type": "code",
   "execution_count": 190,
   "metadata": {},
   "outputs": [
    {
     "name": "stdout",
     "output_type": "stream",
     "text": [
      "\n",
      "A: \n",
      "[[ 1 -1  0  0]\n",
      " [ 0  0  1  0]\n",
      " [ 0  0  0  1]]\n"
     ]
    }
   ],
   "source": [
    "A[1] = A[1] - (2 * A[2])\n",
    "\n",
    "print(f'\\nA: \\n{A}')"
   ]
  },
  {
   "cell_type": "markdown",
   "metadata": {},
   "source": [
    "Hemos obtenido finalmente la RREF de $A$: <br><br>\n",
    "$\\begin{pmatrix} 1 & -1 & 0 & 0 \\\\ 0 & 0 & 1 & 0 \\\\ 0 & 0 & 0 &1 \\end{pmatrix}$ "
   ]
  },
  {
   "cell_type": "markdown",
   "metadata": {},
   "source": [
    "---\n",
    "### Ejercicio 5\n",
    "\n",
    "Verifica si la siguiente matriz es invertible utilizando el método de RREF y,\n",
    "si es así, calcula su inversa:\n",
    "\n",
    "<br>\n",
    "\n",
    "$A = \\begin{pmatrix} 2 & 1 & 1 \\\\ 1 & 3 & 2 \\\\ 1 & 0 & 0 \\end{pmatrix}$  \n",
    "\n",
    "<br>\n",
    "\n",
    "Explica el proceso y el significado de cada paso..."
   ]
  },
  {
   "cell_type": "markdown",
   "metadata": {},
   "source": [
    "**Paso 1:** Para verificar si la matriz es invertible, debemos adjuntar a la derecha la matriz identidad, convertir la matriz original en una RREF y si ese resultado es una matriz identidad, entonces el resultado de la derecha será la matriz inversa.\n",
    "\n",
    "Por lo tanto iniciamos agregando la matriz identidad a la derecha:\n",
    "\n",
    "$A = \\begin{pmatrix} 2 & 1 & 1 & | & 1 & 0 & 0  \\\\ 1 & 3 & 2 & | & 0 & 1 & 0 \\\\ 1 & 0 & 0 & | & 0 & 0 & 1 \\end{pmatrix}$  "
   ]
  },
  {
   "cell_type": "code",
   "execution_count": 191,
   "metadata": {},
   "outputs": [
    {
     "name": "stdout",
     "output_type": "stream",
     "text": [
      "Shape de A: (3, 6)\n",
      "\n",
      "A: \n",
      "[[2 1 1 1 0 0]\n",
      " [1 3 2 0 1 0]\n",
      " [1 0 0 0 0 1]]\n"
     ]
    }
   ],
   "source": [
    "A = np.array([[2, 1, 1, 1, 0 ,0],\n",
    "              [1, 3, 2, 0, 1, 0],\n",
    "              [1, 0, 0, 0, 0, 1]])\n",
    "\n",
    "print(f'Shape de A: {A.shape}')\n",
    "print(f'\\nA: \\n{A}')"
   ]
  },
  {
   "cell_type": "markdown",
   "metadata": {},
   "source": [
    "**Paso 2:** Cambiamos la primera y tercera fila para tener un $1$ como pivote:\n",
    "\n",
    "$R_1 \\leftrightarrow R_3$  "
   ]
  },
  {
   "cell_type": "code",
   "execution_count": 192,
   "metadata": {},
   "outputs": [
    {
     "name": "stdout",
     "output_type": "stream",
     "text": [
      "A: \n",
      "[[1 0 0 0 0 1]\n",
      " [1 3 2 0 1 0]\n",
      " [2 1 1 1 0 0]]\n"
     ]
    }
   ],
   "source": [
    "temp = deepcopy(A[0])\n",
    "A[0] = deepcopy(A[2])\n",
    "A[2] = temp\n",
    "\n",
    "print(f'A: \\n{A}')"
   ]
  },
  {
   "cell_type": "markdown",
   "metadata": {},
   "source": [
    "**Paso 3:** Limpiamos la columna del pivote, aplicando las siguientes operaciones:\n",
    "\n",
    "$R_2 = R_2 - R_1$  \n",
    "$R_3 = R_3 - 2R_1$"
   ]
  },
  {
   "cell_type": "code",
   "execution_count": 193,
   "metadata": {},
   "outputs": [
    {
     "name": "stdout",
     "output_type": "stream",
     "text": [
      "A: \n",
      "[[ 1  0  0  0  0  1]\n",
      " [ 0  3  2  0  1 -1]\n",
      " [ 0  1  1  1  0 -2]]\n"
     ]
    }
   ],
   "source": [
    "A[1] = A[1] - A[0] \n",
    "A[2] = A[2] - 2 * A[0]\n",
    "\n",
    "print(f'A: \\n{A}')"
   ]
  },
  {
   "cell_type": "markdown",
   "metadata": {},
   "source": [
    "**Paso 4:** Restamos la tercera fila multiplicada por 3 a la segunda fila:\n",
    "\n",
    "$R_2 = R_2 - 3R_3$"
   ]
  },
  {
   "cell_type": "code",
   "execution_count": 194,
   "metadata": {},
   "outputs": [
    {
     "name": "stdout",
     "output_type": "stream",
     "text": [
      "A: \n",
      "[[ 1  0  0  0  0  1]\n",
      " [ 0  0 -1 -3  1  5]\n",
      " [ 0  1  1  1  0 -2]]\n"
     ]
    }
   ],
   "source": [
    "A[1] = A[1] - 3 * A[2]\n",
    "\n",
    "print(f'A: \\n{A}')"
   ]
  },
  {
   "cell_type": "markdown",
   "metadata": {},
   "source": [
    "**Paso 5:** Sumamos la tercera fila a la segunda fila:\n",
    "\n",
    "$R_2 = R_2 + R_3$"
   ]
  },
  {
   "cell_type": "code",
   "execution_count": 195,
   "metadata": {},
   "outputs": [
    {
     "name": "stdout",
     "output_type": "stream",
     "text": [
      "A: \n",
      "[[ 1  0  0  0  0  1]\n",
      " [ 0  1  0 -2  1  3]\n",
      " [ 0  1  1  1  0 -2]]\n"
     ]
    }
   ],
   "source": [
    "A[1] = A[1] + A[2]\n",
    "\n",
    "print(f'A: \\n{A}')"
   ]
  },
  {
   "cell_type": "markdown",
   "metadata": {},
   "source": [
    "**Paso 6:** Restamos la segunda fila a la tercera fila:\n",
    "\n",
    "$R_3 = R_3 - R_2$"
   ]
  },
  {
   "cell_type": "code",
   "execution_count": 196,
   "metadata": {},
   "outputs": [
    {
     "name": "stdout",
     "output_type": "stream",
     "text": [
      "A: \n",
      "[[ 1  0  0  0  0  1]\n",
      " [ 0  1  0 -2  1  3]\n",
      " [ 0  0  1  3 -1 -5]]\n"
     ]
    }
   ],
   "source": [
    "A[2] = A[2] - A[1]\n",
    "\n",
    "print(f'A: \\n{A}')"
   ]
  },
  {
   "cell_type": "markdown",
   "metadata": {},
   "source": [
    "Puesto que obtuvimos una matriz identidad del lado izquierdo, sabemos que $A$ es invertible y su inversa es la matriz resultante de la derecha. \n",
    "\n",
    "<br>\n",
    "\n",
    "$A^{-1} = \\begin{pmatrix} 0 & 0 & 1 \\\\ -2 & 1 & 3 \\\\ 3 & -1 & -5 \\end{pmatrix}$ \n",
    "\n",
    "<br> \n",
    "\n",
    "---"
   ]
  }
 ],
 "metadata": {
  "kernelspec": {
   "display_name": "Python 3",
   "language": "python",
   "name": "python3"
  },
  "language_info": {
   "codemirror_mode": {
    "name": "ipython",
    "version": 3
   },
   "file_extension": ".py",
   "mimetype": "text/x-python",
   "name": "python",
   "nbconvert_exporter": "python",
   "pygments_lexer": "ipython3",
   "version": "3.13.0"
  }
 },
 "nbformat": 4,
 "nbformat_minor": 2
}
