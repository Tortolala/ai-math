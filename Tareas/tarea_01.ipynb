{
 "cells": [
  {
   "cell_type": "markdown",
   "metadata": {},
   "source": [
    "# Tarea 1 \n",
    "\n",
    "**Nombre:** Luis Angel Tórtola  \n",
    "**Carnet:** 25007713\n",
    "\n",
    "---"
   ]
  },
  {
   "cell_type": "code",
   "execution_count": 202,
   "metadata": {},
   "outputs": [],
   "source": [
    "import numpy as np"
   ]
  },
  {
   "cell_type": "markdown",
   "metadata": {},
   "source": [
    "### Ejercicio 1\n",
    "\n",
    "Modifique el $T$ de forma $(2 \\times 2 \\times 2 \\times 3)$ a forma $(8 \\times 6)$."
   ]
  },
  {
   "cell_type": "code",
   "execution_count": 203,
   "metadata": {},
   "outputs": [],
   "source": [
    "T = np.array([[\n",
    "        [\n",
    "            [1, 3, 1],\n",
    "            [-1, 5, 1]\n",
    "        ],\n",
    "        [\n",
    "            [5, 0, 5],\n",
    "            [-5, 0, 2]\n",
    "        ]\n",
    "    ],\n",
    "    [\n",
    "        [\n",
    "            [0, 1, 2],\n",
    "            [0, 1, 2]\n",
    "        ],\n",
    "        [\n",
    "            [0, 0, 7],\n",
    "            [0, 0, -7]\n",
    "        ]\n",
    "    ]])"
   ]
  },
  {
   "cell_type": "code",
   "execution_count": 204,
   "metadata": {},
   "outputs": [
    {
     "name": "stdout",
     "output_type": "stream",
     "text": [
      "\n",
      "Dicho reshape no es posible... ajustando a nueva forma (4x6):\n",
      "\n",
      "[[ 1  3  1 -1  5  1]\n",
      " [ 5  0  5 -5  0  2]\n",
      " [ 0  1  2  0  1  2]\n",
      " [ 0  0  7  0  0 -7]]\n"
     ]
    }
   ],
   "source": [
    "try:\n",
    "    T_reshaped = T.reshape(8, 6)\n",
    "except:\n",
    "    print(f'\\nDicho reshape no es posible... ajustando a nueva forma (4x6):\\n')\n",
    "    T_reshaped = T.reshape(4, 6)\n",
    "\n",
    "print(T_reshaped)"
   ]
  },
  {
   "cell_type": "markdown",
   "metadata": {},
   "source": [
    "**Respuesta:** hacer un reshape a (8x6) no es posible debido a la cantidad de elementos en el tensor original. El tensor de $(2 \\times 2 \\times 2 \\times 3)$ contiene 24 elementos. Un tensor de shape $(8 \\times 6)$ requiere 48 elementos existentes. Como alternativa, se muestra un reshape de forma  $(4 \\times 6)$."
   ]
  },
  {
   "cell_type": "markdown",
   "metadata": {},
   "source": [
    "---\n",
    "### Ejercicio 2\n",
    "\n",
    "Utilice la asociatividad en su forma básica para probar que las siguientes expresiones son equivalentes para vectores **a**, **b**, **c**:\n",
    "\n",
    "$[a + (b + c)] + c = (a + b) + (c + c) = a + [(b + c) + c]$"
   ]
  },
  {
   "cell_type": "code",
   "execution_count": 205,
   "metadata": {},
   "outputs": [],
   "source": [
    "a = np.array([7, 8, 9])\n",
    "b = np.array([14, 16, 18])\n",
    "c = np.array([21, 24, 27])"
   ]
  },
  {
   "cell_type": "code",
   "execution_count": 206,
   "metadata": {},
   "outputs": [],
   "source": [
    "result_1 = (a + (b + c)) + c\n",
    "result_2 = (a + b) + (c + c)\n",
    "result_3 = a + ((b + c) + c)"
   ]
  },
  {
   "cell_type": "code",
   "execution_count": 207,
   "metadata": {},
   "outputs": [
    {
     "name": "stdout",
     "output_type": "stream",
     "text": [
      "\n",
      "Existe asociatividad...\n"
     ]
    }
   ],
   "source": [
    "# result_1, result_2, result_3\n",
    "# result_1 == result_2\n",
    "\n",
    "if np.array_equal(result_1, result_2) and np.array_equal(result_2, result_3):\n",
    "    print('\\nExiste asociatividad...')\n",
    "else:\n",
    "    print('\\nNo existe asociatividad...')\n"
   ]
  },
  {
   "cell_type": "markdown",
   "metadata": {},
   "source": [
    "**Respuesta:** se comprueba que existe asociatividad, evaluando cada expresión por separado y luego comparando los vetores resultantes."
   ]
  },
  {
   "cell_type": "markdown",
   "metadata": {},
   "source": [
    "---\n",
    "### Ejercicio 3\n",
    "\n",
    "Derive la desigualdad triangular:  $∥x + y∥≤∥x∥+ ∥y∥$  \n",
    "\n",
    "para vectores **x**, **y**, **z** usando la desigualdad de Cauchy-Schwartz:  $⟨x |y⟩∥≤∥x∥∥y∥$"
   ]
  },
  {
   "cell_type": "code",
   "execution_count": 208,
   "metadata": {},
   "outputs": [
    {
     "data": {
      "text/plain": [
       "(array([ 7,  8, 10, 11, 17]), array([ 1, 14, 16, 33, 55]))"
      ]
     },
     "execution_count": 208,
     "metadata": {},
     "output_type": "execute_result"
    }
   ],
   "source": [
    "n = 5\n",
    "x = np.array([7, 8, 10, 11, 17])\n",
    "y = np.array([1, 14, 16, 33, 55])\n",
    "\n",
    "x, y"
   ]
  },
  {
   "cell_type": "code",
   "execution_count": 209,
   "metadata": {},
   "outputs": [
    {
     "name": "stdout",
     "output_type": "stream",
     "text": [
      "||x + y|| = 91.3455\n",
      "||x|| + ||y|| = 92.5396\n",
      "\n",
      "||x + y|| <= ||x|| + ||y|| ... True\n"
     ]
    }
   ],
   "source": [
    "norm_x_y = np.linalg.norm(x + y)\n",
    "norm_x = np.linalg.norm(x)\n",
    "norm_y = np.linalg.norm(y)\n",
    "norms = norm_x + norm_y\n",
    "\n",
    "print(f'||x + y|| = {round(norm_x_y, 4)}')\n",
    "print(f'||x|| + ||y|| = {round(norms, 4)}')\n",
    "print(f'\\n||x + y|| <= ||x|| + ||y|| ... {norm_x_y <= norms}', )"
   ]
  },
  {
   "cell_type": "markdown",
   "metadata": {},
   "source": [
    "**Respuesta:** se comprueba la desigualdad triangular y la desigualdad Cauchy-Schwarz."
   ]
  },
  {
   "cell_type": "markdown",
   "metadata": {},
   "source": [
    "---\n",
    "### Ejercicio 4\n",
    "\n",
    "**Pregunta 1:**\n",
    "\n",
    "¿Cuál es el shape resultante de multiplicar (*) dos arrays $A$ y $B$ si el array $A$ tiene shape $(1 \\times 2 \\times 1)$ y el array $B$ tiene shape $(1 \\times 2)$? Justifique su respuesta."
   ]
  },
  {
   "cell_type": "code",
   "execution_count": 210,
   "metadata": {},
   "outputs": [
    {
     "name": "stdout",
     "output_type": "stream",
     "text": [
      "Shape A: (1, 2, 1)\n",
      "Shape B: (1, 2)\n",
      "\n",
      "Shape resultante: (1, 2, 2)\n",
      "\n",
      "Resultado:\n",
      " [[[ 6 27]\n",
      "  [14 63]]]\n"
     ]
    }
   ],
   "source": [
    "A = np.array([[[3], [7]]])\n",
    "B = np.array([[2, 9]])\n",
    "\n",
    "print(f'Shape A: {A.shape}')\n",
    "print(f'Shape B: {B.shape}')\n",
    "\n",
    "result = np.matmul(A, B)\n",
    "print(f'\\nShape resultante: {result.shape}')\n",
    "print(f'\\nResultado:\\n {result}')\n"
   ]
  },
  {
   "cell_type": "markdown",
   "metadata": {},
   "source": [
    "**Respuesta:** el resultado tendrá un shape: $(1 \\times 2 \\times 2)$.\n",
    "\n",
    "* En la primera dimensión a evaluar (primera desde la derecha), $A: 1$ y $B: 2$, por lo cual se hace broadcast y la dimensión resultante es 2.\n",
    "\n",
    "*  En la segunda dimensión a evaluar (segunda desde la derecha), $A: 2$ y $B: 1$, por lo cual se hace broadcast y la dimensión resultante es 2.\n",
    "\n",
    "*  En la última dimensión a evaluar (tercera desde la derecha), $A: 1$ y $B: \\emptyset$, por lo cual implícitamente se toma como 1 la dimensión de $B$ y el resultante es igual 1.\n",
    "\n",
    "\n"
   ]
  },
  {
   "cell_type": "markdown",
   "metadata": {},
   "source": [
    "**Pregunta 2:**\n",
    "\n",
    "Si un array $C$ tiene shape $(3 \\times 1)$ y un array $D$ tiene shape $(3 \\times 4)$, ¿Cuál es el shape de $C + D$? Justifique su respuesta."
   ]
  },
  {
   "cell_type": "code",
   "execution_count": 211,
   "metadata": {},
   "outputs": [
    {
     "name": "stdout",
     "output_type": "stream",
     "text": [
      "Shape C: (3, 1)\n",
      "Shape D: (3, 4)\n",
      "\n",
      "Shape resultante: (3, 4)\n",
      "\n",
      "Resultado:\n",
      " [[ 4  5  6  7]\n",
      " [ 9 10 11 12]\n",
      " [14 15 16 17]]\n"
     ]
    }
   ],
   "source": [
    "C = np.array([[3], [4], [5]])\n",
    "D = np.array([[1, 2, 3, 4], [5, 6, 7, 8], [9, 10, 11, 12]])\n",
    "\n",
    "print(f'Shape C: {C.shape}')\n",
    "print(f'Shape D: {D.shape}')\n",
    "\n",
    "result = C + D\n",
    "print(f'\\nShape resultante: {result.shape}')\n",
    "print(f'\\nResultado:\\n {result}')"
   ]
  },
  {
   "cell_type": "markdown",
   "metadata": {},
   "source": [
    "**Respuesta:** el resultado tendrá un shape: $(3 \\times 4)$.\n",
    "\n",
    "* El broadcasting extiende la dimensión 1 del array $C$ para coincidir con el 4 de $D$, resultando en $4$.\n",
    "* La segunda dimensión evaluada de $C$ y $D$ coincide en $3$, por lo cual no es necesario ningún ajuste y permite evaluar la suma.\n",
    "\n",
    "\n"
   ]
  },
  {
   "cell_type": "markdown",
   "metadata": {},
   "source": [
    "**Pregunta 3:**\n",
    "\n",
    "¿Por qué no es posible realizar una operación binaria entre un array $E$ con\n",
    "shape $(5 \\times 1)$ y un array $F$ con shape $(3,)$?"
   ]
  },
  {
   "cell_type": "code",
   "execution_count": 212,
   "metadata": {},
   "outputs": [
    {
     "name": "stdout",
     "output_type": "stream",
     "text": [
      "Shape E: (5, 1)\n",
      "Shape F: (3,)\n",
      "\n",
      "Result E AND F: \n",
      " [[False False False]\n",
      " [False  True  True]\n",
      " [False  True  True]\n",
      " [False False False]\n",
      " [False  True  True]]\n",
      "\n",
      "Result E OR F: \n",
      " [[False  True  True]\n",
      " [ True  True  True]\n",
      " [ True  True  True]\n",
      " [False  True  True]\n",
      " [ True  True  True]]\n"
     ]
    }
   ],
   "source": [
    "# Different shape\n",
    "E = np.array([[0], [1], [1], [0], [1]])\n",
    "F = np.array([0, 1, 1])\n",
    "\n",
    "print(f'Shape E: {E.shape}')\n",
    "print(f'Shape F: {F.shape}')\n",
    "\n",
    "result_and = np.logical_and(E, F)\n",
    "result_or = np.logical_or(E, F)\n",
    "\n",
    "print(f'\\nResult E AND F: \\n {result_and}')\n",
    "print(f'\\nResult E OR F: \\n {result_or}')"
   ]
  },
  {
   "cell_type": "code",
   "execution_count": 213,
   "metadata": {},
   "outputs": [
    {
     "name": "stdout",
     "output_type": "stream",
     "text": [
      "Shape F: (3,)\n",
      "Shape G: (3,)\n",
      "\n",
      "Result F AND G: \n",
      " [False  True False]\n",
      "\n",
      "Result F OR G: \n",
      " [False  True  True]\n"
     ]
    }
   ],
   "source": [
    "# Same shape\n",
    "F = np.array([0, 1, 1])\n",
    "G = np.array([0, 1, 0])\n",
    "\n",
    "print(f'Shape F: {F.shape}')\n",
    "print(f'Shape G: {G.shape}')\n",
    "\n",
    "result_and_same = np.logical_and(F, G)\n",
    "result_or_same = np.logical_or(F, G)\n",
    "\n",
    "print(f'\\nResult F AND G: \\n {result_and_same}')\n",
    "print(f'\\nResult F OR G: \\n {result_or_same}')"
   ]
  },
  {
   "cell_type": "markdown",
   "metadata": {},
   "source": [
    "**Respuesta:** No es posible realizar operaciones binarias entre arrays de distinta shape. Como ejemplifica el código arriba, al tener una shape distinta se utilizará broadcasting y obtendremos un resultado aumentado, lo cual técnicamente se puede ejecutar pero no tienen ningún sentido dentro de la lógica binaria. \n",
    "\n",
    "Para realizar una operación binaria entre arrays, estos forzosamente deben tener el mismo shape para que la interpretación del resultado sea coherente. "
   ]
  },
  {
   "cell_type": "markdown",
   "metadata": {},
   "source": [
    "**Pregunta 4:**\n",
    "\n",
    "Explique el proceso de broadcasting que ocurre cuando se suman dos arrays:\n",
    "uno con shape $(3 \\times 1 \\times 6)$ y otro con shape $(1 \\times 5 \\times 1)$. ¿Cuál será el shape del\n",
    "array resultante? Justifique su respuesta."
   ]
  },
  {
   "cell_type": "code",
   "execution_count": 214,
   "metadata": {},
   "outputs": [
    {
     "name": "stdout",
     "output_type": "stream",
     "text": [
      "Shape U: (3, 1, 6)\n",
      "Shape V: (1, 5, 1)\n",
      "\n",
      "Shape resultante: (3, 5, 6)\n",
      "\n",
      "Resultado:\n",
      " [[[12 12 12 12 12 12]\n",
      "  [22 22 22 22 22 22]\n",
      "  [32 32 32 32 32 32]\n",
      "  [42 42 42 42 42 42]\n",
      "  [52 52 52 52 52 52]]\n",
      "\n",
      " [[14 14 14 14 14 14]\n",
      "  [24 24 24 24 24 24]\n",
      "  [34 34 34 34 34 34]\n",
      "  [44 44 44 44 44 44]\n",
      "  [54 54 54 54 54 54]]\n",
      "\n",
      " [[16 16 16 16 16 16]\n",
      "  [26 26 26 26 26 26]\n",
      "  [36 36 36 36 36 36]\n",
      "  [46 46 46 46 46 46]\n",
      "  [56 56 56 56 56 56]]]\n"
     ]
    }
   ],
   "source": [
    "U = np.array([[[2, 2, 2, 2, 2, 2]], [[4, 4, 4, 4, 4, 4]], [[6, 6, 6, 6, 6, 6]]])\n",
    "V = np.array([[[10], [20], [30], [40], [50]]])\n",
    "\n",
    "print(f'Shape U: {U.shape}')\n",
    "print(f'Shape V: {V.shape}')\n",
    "\n",
    "result = U + V\n",
    "print(f'\\nShape resultante: {result.shape}')\n",
    "print(f'\\nResultado:\\n {result}')"
   ]
  },
  {
   "cell_type": "markdown",
   "metadata": {},
   "source": [
    "**Respuesta:** el resultado tendrá un shape: $(3 \\times 5 \\times 6)$.\n",
    "\n",
    "Debido a las reglas de broadcasting, las dimensiones se extenderán, evaluándose desde la derecha.\n",
    "\n",
    "* En la primera dimensión a evaluar (primera desde la derecha), $U: 6$ y $V: 1$, por lo cual se estira (*broadcast*) $V$ para coincidir con $U$ en tamaño $6$.\n",
    "\n",
    "* En la primera dimensión a evaluar (primera desde la derecha), $U: 1$ y $V: 5$, por lo cual se estira (*broadcast*) $U$ para coincidir con $V$ en tamaño $5$.\n",
    "\n",
    "* En la primera dimensión a evaluar (primera desde la derecha), $U: 3$ y $V: 1$, por lo cual se estira (*broadcast*) $V$ para coincidir con $U$ en tamaño $3$.\n"
   ]
  },
  {
   "cell_type": "markdown",
   "metadata": {},
   "source": [
    "---\n",
    "### Ejercicio 5\n",
    "\n",
    "Calcule el producto de las matrices:  \n",
    "\n",
    "$A = \\begin{pmatrix} a_{1} & x \\\\ 0 & a_{2} \\end{pmatrix}$\n",
    "$B = \\begin{pmatrix} b_{1} & 0 \\\\ 0 & b_{2} \\end{pmatrix}$\n",
    "\n",
    "Verifique si el producto es conmutativo comprobando si $AB = BA$ para cualesquiera valores $a_{1}, a_{2}, b_{1}, b_{2}, x ∈R$. Determine los valores de $x$ para los cuales el producto si conmuta."
   ]
  },
  {
   "cell_type": "code",
   "execution_count": 215,
   "metadata": {},
   "outputs": [
    {
     "name": "stdout",
     "output_type": "stream",
     "text": [
      "Con el valor x = -5, la multiplicación NO es conmutativa.\n",
      "Con el valor x = -4, la multiplicación NO es conmutativa.\n",
      "Con el valor x = -3, la multiplicación NO es conmutativa.\n",
      "Con el valor x = -2, la multiplicación NO es conmutativa.\n",
      "Con el valor x = -1, la multiplicación NO es conmutativa.\n",
      "Con el valor x = 0, la multiplicación SI es conmutativa.\n",
      "Con el valor x = 1, la multiplicación NO es conmutativa.\n",
      "Con el valor x = 2, la multiplicación NO es conmutativa.\n",
      "Con el valor x = 3, la multiplicación NO es conmutativa.\n",
      "Con el valor x = 4, la multiplicación NO es conmutativa.\n"
     ]
    }
   ],
   "source": [
    "from random import randint\n",
    "\n",
    "\n",
    "def verify_commutativity(x_val: int):\n",
    "\n",
    "    x = x_val\n",
    "    a_1 = randint(2, 9)\n",
    "    a_2 = a_1 + randint(1, 3)\n",
    "    b_1 = randint(2, 9)\n",
    "    b_2 = b_1 + randint(1, 3)\n",
    "\n",
    "    A = np.array([[a_1, x], [0, a_2]])\n",
    "    B = np.array([[b_1, 0], [0, b_2]])\n",
    "\n",
    "    A_B = np.matmul(A, B)\n",
    "    B_A = np.matmul(B, A)\n",
    "\n",
    "    if np.array_equal(A_B, B_A):\n",
    "        print(f'Con el valor x = {x}, la multiplicación SI es conmutativa.')\n",
    "    else:\n",
    "        print(f'Con el valor x = {x}, la multiplicación NO es conmutativa.')\n",
    "\n",
    "\n",
    "for n in range(-5, 5):\n",
    "    verify_commutativity(n)\n"
   ]
  },
  {
   "cell_type": "markdown",
   "metadata": {},
   "source": [
    "**Respuesta:** demostramos que para cualesquiera valores $a_{1}, a_{2}, b_{1}, b_{2}$ la multiplicación de $A$ y $B$ será conmutativa solo cuando $x = 0$."
   ]
  },
  {
   "cell_type": "markdown",
   "metadata": {},
   "source": [
    "---\n",
    "### Ejercicio 6\n",
    "\n",
    "El outer product de **u** y **v**, donde:\n",
    "\n",
    "$u = \\begin{pmatrix} u_1 \\\\ u_2 \\\\ ... \\\\ u_m \\end{pmatrix}, $\n",
    "$v = \\begin{pmatrix} v_1 \\\\ v_2 \\\\ ... \\\\ v_m \\end{pmatrix}$\n",
    "\n",
    "se define como la matriz: $A = u \\cdot v^T$  \n",
    "\n",
    "de dimensiones $m \\times n$, o de forma equivalente: $a_{ij} = u_i v_j$\n",
    "\n",
    "considere las siguientes matrices:\n",
    "\n",
    "$A = \\begin{pmatrix} 1 \\\\ 2 \\\\ 3 \\\\ ... \\\\ n \\end{pmatrix}, $\n",
    "$B = \\begin{pmatrix} n & n - 1 & n - 2 & ... & 1 \\end{pmatrix}$"
   ]
  },
  {
   "cell_type": "code",
   "execution_count": 216,
   "metadata": {},
   "outputs": [
    {
     "name": "stdout",
     "output_type": "stream",
     "text": [
      "A: \n",
      "[[1]\n",
      " [2]\n",
      " [3]\n",
      " [4]\n",
      " [5]] \n",
      "B: \n",
      "[5 4 3 2 1]\n"
     ]
    }
   ],
   "source": [
    "n = 5\n",
    "\n",
    "A = np.arange(1, n + 1).reshape(-1, 1)\n",
    "B = np.arange(n, 0, -1)\n",
    "\n",
    "print(f'A: \\n{A} \\nB: \\n{B}')"
   ]
  },
  {
   "cell_type": "markdown",
   "metadata": {},
   "source": [
    "Calcule $ A \\otimes B$:"
   ]
  },
  {
   "cell_type": "code",
   "execution_count": 217,
   "metadata": {},
   "outputs": [
    {
     "name": "stdout",
     "output_type": "stream",
     "text": [
      "U = \n",
      " [[ 5  4  3  2  1]\n",
      " [10  8  6  4  2]\n",
      " [15 12  9  6  3]\n",
      " [20 16 12  8  4]\n",
      " [25 20 15 10  5]]\n"
     ]
    }
   ],
   "source": [
    "U = np.outer(A, B)\n",
    "print(f'U = \\n {U}')"
   ]
  },
  {
   "cell_type": "markdown",
   "metadata": {},
   "source": [
    "Calcule la norma de cada fila de $A \\otimes B$:"
   ]
  },
  {
   "cell_type": "code",
   "execution_count": 218,
   "metadata": {},
   "outputs": [
    {
     "name": "stdout",
     "output_type": "stream",
     "text": [
      "Norma de cada fila de U: [ 7.41619849 14.83239697 22.24859546 29.66479395 37.08099244]\n"
     ]
    }
   ],
   "source": [
    "row_norms = np.linalg.norm(U, axis=1)\n",
    "\n",
    "print(f'Norma de cada fila de U: {row_norms}')"
   ]
  },
  {
   "cell_type": "markdown",
   "metadata": {},
   "source": [
    "Calcule la norma de cada columna de $A \\otimes B$:"
   ]
  },
  {
   "cell_type": "code",
   "execution_count": 219,
   "metadata": {},
   "outputs": [
    {
     "name": "stdout",
     "output_type": "stream",
     "text": [
      "Norma de cada columna de U: [37.08099244 29.66479395 22.24859546 14.83239697  7.41619849]\n"
     ]
    }
   ],
   "source": [
    "col_norms = np.linalg.norm(U, axis=0)\n",
    "\n",
    "print(f'Norma de cada columna de U: {col_norms}')"
   ]
  },
  {
   "cell_type": "markdown",
   "metadata": {},
   "source": [
    "---"
   ]
  }
 ],
 "metadata": {
  "kernelspec": {
   "display_name": "Python 3",
   "language": "python",
   "name": "python3"
  },
  "language_info": {
   "codemirror_mode": {
    "name": "ipython",
    "version": 3
   },
   "file_extension": ".py",
   "mimetype": "text/x-python",
   "name": "python",
   "nbconvert_exporter": "python",
   "pygments_lexer": "ipython3",
   "version": "3.13.0"
  }
 },
 "nbformat": 4,
 "nbformat_minor": 2
}
