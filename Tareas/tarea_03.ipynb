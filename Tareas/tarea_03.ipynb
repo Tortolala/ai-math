{
 "cells": [
  {
   "cell_type": "markdown",
   "metadata": {},
   "source": [
    "# Tarea 3\n",
    "\n",
    "**Nombre:** Luis Angel Tórtola  \n",
    "**Carnet:** 25007713\n",
    "\n",
    "---"
   ]
  },
  {
   "cell_type": "code",
   "execution_count": 56,
   "metadata": {},
   "outputs": [],
   "source": [
    "import numpy as np\n",
    "import sympy"
   ]
  },
  {
   "cell_type": "markdown",
   "metadata": {},
   "source": [
    "### Ejercicio 1\n",
    "\n",
    "Dados los vectores: \n",
    "\n",
    "<br>\n",
    "\n",
    "$v_1 = \\begin{bmatrix} 1 \\\\ 0 \\\\ 3 \\\\ 0  \\\\ 2 \\\\ 1 \\end{bmatrix}, $\n",
    "$v_2 = \\begin{bmatrix} -1 \\\\ 0 \\\\ 0 \\\\ 1  \\\\ 2 \\\\ 1 \\end{bmatrix}, $\n",
    "$v_3 = \\begin{bmatrix} -1 \\\\ 0 \\\\ 0 \\\\ -1  \\\\ 0 \\\\ -1 \\end{bmatrix}, $\n",
    "$v_4 = \\begin{bmatrix} -1 \\\\ 0 \\\\ 0 \\\\ 0  \\\\ 1 \\\\ 0 \\end{bmatrix}, $\n",
    "$v_5 = \\begin{bmatrix} 0 \\\\ 0 \\\\ 0 \\\\ 1  \\\\ 1 \\\\ 1 \\end{bmatrix}, $\n",
    "$v_6 = \\begin{bmatrix} 1 \\\\ 0 \\\\ 3 \\\\ 1  \\\\ 3 \\\\ 2 \\end{bmatrix} $\n",
    "\n",
    "<br>\n",
    "\n",
    "- Determine la dimensión de S el espacio generado por los $v_i$.\n",
    "- Encuentre algunos $v_i$ que formen una base de $S$.\n",
    "- Encuentre un conjunto de ecuaciones que determinen a $S$."
   ]
  },
  {
   "cell_type": "code",
   "execution_count": 57,
   "metadata": {},
   "outputs": [
    {
     "name": "stdout",
     "output_type": "stream",
     "text": [
      "Matriz M =\n",
      "[[ 1 -1 -1 -1  0  1]\n",
      " [ 0  0  0  0  0  0]\n",
      " [ 3  0  0  0  0  3]\n",
      " [ 0  1 -1  0  1  1]\n",
      " [ 2  2  0  1  1  3]\n",
      " [ 1  1 -1  0  1  2]]\n"
     ]
    }
   ],
   "source": [
    "v1 = [ 1,  0,  3,  0,  2,  1]\n",
    "v2 = [-1,  0,  0,  1,  2,  1]\n",
    "v3 = [-1,  0,  0, -1,  0, -1]\n",
    "v4 = [-1,  0,  0,  0,  1,  0]\n",
    "v5 = [ 0,  0,  0,  1,  1,  1]\n",
    "v6 = [ 1,  0,  3,  1,  3,  2]\n",
    "\n",
    "M = np.column_stack((v1, v2, v3, v4, v5, v6))\n",
    "print('Matriz M =')\n",
    "print(M)"
   ]
  },
  {
   "cell_type": "code",
   "execution_count": 58,
   "metadata": {},
   "outputs": [
    {
     "name": "stdout",
     "output_type": "stream",
     "text": [
      "\n",
      "Dimensión de S = 3\n"
     ]
    }
   ],
   "source": [
    "rango_M = np.linalg.matrix_rank(M)\n",
    "print('\\nDimensión de S =', rango_M)"
   ]
  },
  {
   "cell_type": "code",
   "execution_count": 59,
   "metadata": {},
   "outputs": [
    {
     "name": "stdout",
     "output_type": "stream",
     "text": [
      "\n",
      "RREF(M) = Matrix([[1, 0, 0, 0, 0, 1], [0, 1, 0, 1/2, 1/2, 1/2], [0, 0, 1, 1/2, -1/2, -1/2], [0, 0, 0, 0, 0, 0], [0, 0, 0, 0, 0, 0], [0, 0, 0, 0, 0, 0]])\n",
      "Columnas pivote = (0, 1, 2)\n"
     ]
    }
   ],
   "source": [
    "M_sym = sympy.Matrix(M)\n",
    "rref_M = M_sym.rref()\n",
    "pivotes = rref_M[1]\n",
    "print(f'\\nRREF(M) = {rref_M[0]}')         \n",
    "print(f'Columnas pivote = {pivotes}')"
   ]
  },
  {
   "cell_type": "code",
   "execution_count": 60,
   "metadata": {},
   "outputs": [
    {
     "name": "stdout",
     "output_type": "stream",
     "text": [
      "\n",
      "Base de S a partir de columnas pivote:\n",
      "v1 = [1 0 3 0 2 1]\n",
      "v2 = [-1  0  0  1  2  1]\n",
      "v3 = [-1  0  0 -1  0 -1]\n"
     ]
    }
   ],
   "source": [
    "print('\\nBase de S a partir de columnas pivote:')\n",
    "for p in pivotes:\n",
    "    print(f'v{p+1} =', M[:, p])"
   ]
  },
  {
   "cell_type": "code",
   "execution_count": 61,
   "metadata": {},
   "outputs": [
    {
     "name": "stdout",
     "output_type": "stream",
     "text": [
      "\n",
      "Ecuaciones que definen S:\n",
      "Ecuación 1: [0, 1, 0, 0, 0, 0] · (x1, x2, x3, x4, x5, x6) = 0\n",
      "Ecuación 2: [1, 0, -1, -1, 1, 0] · (x1, x2, x3, x4, x5, x6) = 0\n",
      "Ecuación 3: [0, 0, -1/3, -1, 0, 1] · (x1, x2, x3, x4, x5, x6) = 0\n"
     ]
    }
   ],
   "source": [
    "left_null = sympy.Matrix(M).T.nullspace()\n",
    "\n",
    "print('\\nEcuaciones que definen S:')\n",
    "for i, w in enumerate(left_null, 1):\n",
    "    print(f'Ecuación {i}: {list(w)} · (x1, x2, x3, x4, x5, x6) = 0')"
   ]
  },
  {
   "cell_type": "markdown",
   "metadata": {},
   "source": [
    "---\n",
    "### Ejercicio 2\n",
    "\n",
    "Una población de aves se mueven de la región montañosa a la región de los lagos. La dinámica de los movimientos en un mes es la siguiente: 20% de la población de la montaña migra a los lagos y el resto se mantiene en la montaña. 25% de la población en el lago se mueve a la montaña y el resto se mantiene en el lago.\n",
    "\n",
    "Escriba un operador lineal $T \\begin{pmatrix} a \\\\ b \\end{pmatrix}$ que describa la evolución de la\n",
    "población de un mes al siguiente:\n",
    "<br>\n",
    "\n",
    "$T \\begin{pmatrix} 1 \\\\ 0 \\end{pmatrix} = \\begin{pmatrix} 0.80 \\\\ 0.20 \\end{pmatrix} $ <br><br> \n",
    "$T \\begin{pmatrix} 0 \\\\ 1 \\end{pmatrix} = \\begin{pmatrix} 0.25 \\\\ 0.75 \\end{pmatrix} $ <br><br>\n",
    "$T \\begin{pmatrix} a \\\\ b \\end{pmatrix} = \\begin{pmatrix} 0.80 & 0.25 \\\\ 0.20 & 0.75 \\end{pmatrix} $"
   ]
  },
  {
   "cell_type": "code",
   "execution_count": 62,
   "metadata": {},
   "outputs": [
    {
     "name": "stdout",
     "output_type": "stream",
     "text": [
      "T = \n",
      "[[0.8  0.25]\n",
      " [0.2  0.75]]\n"
     ]
    }
   ],
   "source": [
    "T = np.array([[0.8, 0.25], [0.2, 0.75]])\n",
    "print(f'T = \\n{T}')"
   ]
  },
  {
   "cell_type": "markdown",
   "metadata": {},
   "source": [
    "Suponga que la población de aves es de 800 en la montaña y 1200 en el lago, luego de un mes calcule la población en cada locación.\n",
    "<br> \n",
    "\n",
    "$a = 800$  \n",
    "$b = 1,200$"
   ]
  },
  {
   "cell_type": "code",
   "execution_count": 63,
   "metadata": {},
   "outputs": [
    {
     "name": "stdout",
     "output_type": "stream",
     "text": [
      "Población en montaña: 940, lago: 1060\n"
     ]
    }
   ],
   "source": [
    "a_b = np.array([800, 1200])\n",
    "\n",
    "result = np.matmul(T, a_b)\n",
    "print(f'Población en montaña: {int(result[0])}, lago: {int(result[1])}')"
   ]
  },
  {
   "cell_type": "markdown",
   "metadata": {},
   "source": [
    "---\n",
    "### Ejercicio 3\n",
    "\n",
    "Dado el con junto de vectores $B = {(1,−1, 0), (2, 2, 0), (0, 0, 3)}$, verifica si forma una base ortogonal. Si no es así, identifique qué pares de vectores no son ortogonales."
   ]
  },
  {
   "cell_type": "code",
   "execution_count": 70,
   "metadata": {},
   "outputs": [
    {
     "name": "stdout",
     "output_type": "stream",
     "text": [
      "\n",
      "Los tres vectores son ortogonales...\n"
     ]
    }
   ],
   "source": [
    "v1 = np.array([ 1, -1, 0])\n",
    "v2 = np.array([ 2,  2, 0])\n",
    "v3 = np.array([ 0,  0, 3])\n",
    "\n",
    "dot_1 = np.dot(v1, v3)\n",
    "dot_2 = np.dot(v1, v2)\n",
    "dot_3 = np.dot(v2, v3)\n",
    "\n",
    "if dot_1 == 0 and dot_2 ==0 and dot_3 == 0:\n",
    "    print('\\nLos tres vectores son ortogonales...')"
   ]
  },
  {
   "cell_type": "markdown",
   "metadata": {},
   "source": [
    "Los tres vectores prueban ser ortogonales, por lo cual generan una base en $\\mathbb{R}^3$."
   ]
  },
  {
   "cell_type": "markdown",
   "metadata": {},
   "source": [
    "---\n",
    "### Ejercicio 4\n",
    "\n",
    "Considera el subespacio generado por $C= {(2/5, 3/5, 0), (0, 0,−1)}$.\n",
    "\n",
    "• Utilice la ecuación $Q \\times Q^T$ para encontrar la representación matricial del operador de proyección.\n",
    "\n",
    "• Calcula la proyección ortogonal del vector $p = (1, 1, 1)$ sobre este subespacio y determina la distancia de $p$ al subespacio."
   ]
  },
  {
   "cell_type": "code",
   "execution_count": 65,
   "metadata": {},
   "outputs": [
    {
     "name": "stdout",
     "output_type": "stream",
     "text": [
      "\n",
      "Matriz de proyección P:\n",
      " [[0.30769231 0.46153846 0.        ]\n",
      " [0.46153846 0.69230769 0.        ]\n",
      " [0.         0.         1.        ]]\n",
      "\n",
      "Proyección de p sobre el subespacio = [0.76923077 1.15384615 1.        ] \n",
      "Distancia de p al subespacio = 0.2773500981126146\n"
     ]
    }
   ],
   "source": [
    "c1 = np.array([2/5, 3/5, 0])\n",
    "c2 = np.array([0, 0, -1])\n",
    "\n",
    "# Normalizar\n",
    "norm_c1 = np.linalg.norm(c1)\n",
    "c1_n = c1 / norm_c1\n",
    "norm_c2 = np.linalg.norm(c2)\n",
    "c2_n = c2 / norm_c2\n",
    "\n",
    "Q = np.column_stack((c1_n, c2_n))\n",
    "P = np.matmul(Q, Q.T)\n",
    "\n",
    "p = np.array([1,1,1], dtype=float)\n",
    "p_proj = np.matmul(P, p)\n",
    "\n",
    "distancia = np.linalg.norm(p - p_proj)\n",
    "\n",
    "print(f'\\nMatriz de proyección P:\\n {P}')\n",
    "print(f'\\nProyección de p sobre el subespacio = {p_proj} ')\n",
    "print(f'Distancia de p al subespacio = {distancia}')"
   ]
  },
  {
   "cell_type": "markdown",
   "metadata": {},
   "source": [
    "--- \n",
    "### Ejercicio 5"
   ]
  },
  {
   "cell_type": "markdown",
   "metadata": {},
   "source": [
    "Considere el tensor:\n",
    "\n",
    "$ T  = \\begin{bmatrix} \\begin{bmatrix} 4 & 2 \\\\ 2 & 2 \\end{bmatrix} & \\begin{bmatrix} 3 & 2 \\\\ 2 & 4 \\end{bmatrix} \\\\ \\begin{bmatrix} 7 & 3 \\\\ 2 & 3 \\end{bmatrix} & \\begin{bmatrix} 4 & 3 \\\\ 5 & 1 \\end{bmatrix} \\end{bmatrix} $\n",
    "\n",
    "Donde $T_{ijkl}$ representa la venta ($l = 0$) y existencia en bodega ($l=1$), de tractores, en las locaciones ($i = 0$ en Guatemala, $i = 1$ en el exterior), $j = 0, 1$ las dos salas de ventas, $k = 0$ modelos ligeros, $k = 1$ modelos pesados.\n",
    "\n",
    "Calcule la siguiente y describa que representa:  \n",
    "\n",
    "$ \\sum\\limits_{i=0}^{1} \\sum\\limits_{j=0}^{1} \\sum\\limits_{k=0}^{1} T_{ijk0} $ "
   ]
  },
  {
   "cell_type": "code",
   "execution_count": 66,
   "metadata": {},
   "outputs": [
    {
     "name": "stdout",
     "output_type": "stream",
     "text": [
      "Suma total T_ijk0 = 29\n"
     ]
    }
   ],
   "source": [
    "T = np.array([\n",
    "    [\n",
    "      [ [4, 2], [3, 2] ],\n",
    "      [ [2, 2], [2, 4] ]\n",
    "    ],\n",
    "    [\n",
    "      [ [7, 3], [4, 3] ],\n",
    "      [ [2, 3], [5, 1] ]\n",
    "    ]\n",
    "])\n",
    "\n",
    "sales = T[:,:,:,0].sum()\n",
    "print(f'Suma total T_ijk0 = {sales}')"
   ]
  },
  {
   "cell_type": "markdown",
   "metadata": {},
   "source": [
    "$ \\sum\\limits_{i=0}^{1} \\sum\\limits_{j=0}^{1} \\sum\\limits_{k=0}^{1} T_{ijk0}:$ representa las ventas totales; todas las locaciones, salas de venta y modelos."
   ]
  },
  {
   "cell_type": "markdown",
   "metadata": {},
   "source": [
    "---\n",
    "### Ejercicio 6\n",
    "\n",
    "Considere el sistema de ecuaciones siguiente:\n",
    "\n",
    "$ x + y − z + w = 1 $  \n",
    "$ −x − 2y + z + 2w = 3 $  \n",
    "$ 2x + 3y − 2z − w = −2 $\n",
    "\n",
    "Escriba el la representación del sistema como una matriz aumentada: \n",
    "\n",
    "$A = \\begin{pmatrix} 1 & 1 & -1 & 1 & | & 1 \\\\ -1 & -2 & 1 & 2 & | & 3 \\\\ 2 & 3 & -2 & -1 & | & -2 \\end{pmatrix}$  \n"
   ]
  },
  {
   "cell_type": "code",
   "execution_count": 67,
   "metadata": {},
   "outputs": [
    {
     "name": "stdout",
     "output_type": "stream",
     "text": [
      "A = \n",
      "[[ 1  1 -1  1  1]\n",
      " [-1 -2  1  2  3]\n",
      " [ 2  3 -2 -1 -2]]\n"
     ]
    }
   ],
   "source": [
    "A = np.array([\n",
    "    [1,  1, -1,  1,  1],\n",
    "    [-1, -2,  1,  2,  3],\n",
    "    [2,  3, -2, -1, -2]\n",
    "])\n",
    "\n",
    "print(f'A = \\n{A}')"
   ]
  },
  {
   "cell_type": "markdown",
   "metadata": {},
   "source": [
    "Calcule la rref de la matriz anterior. \n",
    "\n",
    "Podemos obtener la RREF aplicando las siguientes operaciones:\n",
    "\n",
    "$R_2 = R_2 + R_1$  \n",
    "$R_3 = R_3 - 2R_1$  \n",
    "$R_1 = R_1 + R_2$  \n",
    "$R_3 = R_3 + R_2$  \n",
    "$R_2 = -1R_2$  "
   ]
  },
  {
   "cell_type": "code",
   "execution_count": 68,
   "metadata": {},
   "outputs": [
    {
     "name": "stdout",
     "output_type": "stream",
     "text": [
      "RREF: \n",
      "Matrix([[1, 0, -1, 4, 5], [0, 1, 0, -3, -4], [0, 0, 0, 0, 0]])\n"
     ]
    }
   ],
   "source": [
    "A_ = sympy.Matrix(A)\n",
    "A_rref = A_.rref()\n",
    "print(f'RREF: \\n{A_rref[0]}')"
   ]
  },
  {
   "cell_type": "markdown",
   "metadata": {},
   "source": [
    "Para las primeras dos operaciones entre filas realizadas anteriormente, escriba las matrices elementales asociadas:\n",
    "\n",
    "<br> \n",
    "\n",
    "$E_1 = \\begin{pmatrix} 1 & 0 & 0 \\\\ 1 & 1 & 0 \\\\ 0 & 0 & 1 \\end{pmatrix}$  <br><br>\n",
    "$E_2 = \\begin{pmatrix} 1 & 0 & 0 \\\\ 0 & 1 & 0 \\\\ -2 & 0 & 1 \\end{pmatrix}$  "
   ]
  },
  {
   "cell_type": "markdown",
   "metadata": {},
   "source": [
    "Encuentre la solución del sistema de ecuaciones:"
   ]
  },
  {
   "cell_type": "code",
   "execution_count": 69,
   "metadata": {},
   "outputs": [
    {
     "name": "stdout",
     "output_type": "stream",
     "text": [
      "Solución: [{x: -4*w + z + 5, y: 3*w - 4}]\n"
     ]
    }
   ],
   "source": [
    "x, y, z, w = sympy.symbols('x y z w')\n",
    "\n",
    "solution = sympy.solve([\n",
    "    x + y - z + w - 1,\n",
    "    -x - 2*y + z + 2*w - 3,\n",
    "    2*x + 3*y - 2*z - w +2\n",
    "], [x, y, z, w], dict=True)\n",
    "\n",
    "print(f'Solución: {solution}')"
   ]
  },
  {
   "cell_type": "markdown",
   "metadata": {},
   "source": [
    "Dada la RREF logramos saber que:  \n",
    "\n",
    "$x - z + 4w = 5$  \n",
    "$y - 3w = -4$  \n",
    "\n",
    "$z = \\lambda, w = \\mu $  \n",
    "\n",
    "Despejamos:\n",
    "\n",
    "$ x = 5 + \\lambda - 4\\mu $  \n",
    "$ y = - 4 + 3\\mu $\n",
    "\n",
    "Con lo cual:\n",
    "\n",
    "$ x = 5 + \\lambda - 4\\mu $  \n",
    "$ y = -4 + 3\\mu  $   \n",
    "$ z = \\lambda  $   \n",
    "$ w = \\mu  $   \n",
    "\n",
    "**Respuesta:** \n",
    "<br><br>\n",
    "$ (x, y, z, w) = (5, -4, 0, 0) + \\lambda(1, 0, 1, 0) + \\mu(-4. 3, 0, 1) $  \n",
    "\n",
    "Donde $ \\lambda, \\mu \\in \\mathbb{R} $ y son los parámetros libres. Por lo cual generan una hiperplano en $\\mathbb{R}^4 $ como solución al sistema. \n",
    "\n",
    "---\n",
    "\n",
    "\n",
    "\n",
    "\n",
    "\n",
    "\n"
   ]
  }
 ],
 "metadata": {
  "kernelspec": {
   "display_name": "Python 3",
   "language": "python",
   "name": "python3"
  },
  "language_info": {
   "codemirror_mode": {
    "name": "ipython",
    "version": 3
   },
   "file_extension": ".py",
   "mimetype": "text/x-python",
   "name": "python",
   "nbconvert_exporter": "python",
   "pygments_lexer": "ipython3",
   "version": "3.13.0"
  }
 },
 "nbformat": 4,
 "nbformat_minor": 2
}
