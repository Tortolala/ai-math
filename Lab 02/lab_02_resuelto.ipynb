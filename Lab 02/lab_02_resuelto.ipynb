{
 "cells": [
  {
   "cell_type": "markdown",
   "id": "a2f4afa5",
   "metadata": {},
   "source": [
    "# Laboratorio 2\n",
    "\n",
    "**Nombre:** Luis Angel Tórtola  \n",
    "**Carnet:** 25007713\n",
    "\n",
    "---\n"
   ]
  },
  {
   "cell_type": "code",
   "execution_count": 3,
   "id": "2f098d9c",
   "metadata": {},
   "outputs": [],
   "source": [
    "import numpy as np\n",
    "from copy import deepcopy"
   ]
  },
  {
   "cell_type": "markdown",
   "id": "1da4aeea",
   "metadata": {},
   "source": [
    "# Operaciones Elementales y Matrices Escalonadas\n",
    "\n",
    "## Operaciones Elementales por Filas\n",
    "\n",
    "Las operaciones elementales por filas son transformaciones que se pueden\n",
    "aplicar a las filas de una matriz sin cambiar el conjunto de soluciones\n",
    "del sistema de ecuaciones. Son:\n",
    "\n",
    "1.  **Intercambio de Filas:** Cambiar de posición dos filas de la\n",
    "    matriz.\n",
    "2.  **Multiplicación por un Escalar:** Multiplicar todos los elementos\n",
    "    de una fila por un número distinto de cero.\n",
    "3.  **Suma de un Múltiplo de una Fila a Otra Fila:** Sumar a una fila un\n",
    "    múltiplo de otra fila.\n",
    "\n",
    "Estas operaciones se utilizan para simplificar el sistema de ecuaciones\n",
    "hasta llegar a una forma más fácilmente resoluble.\n",
    "\n",
    "## Intercambio de Filas\n",
    "\n",
    "Escriba una función en Python que reciba un arreglo de Numpy los indices $i$, $j$ de las filas a intercambiar, intercambie las filas en el arreglo de Numpy y retorne una matriz elemental que represente la operación realizada."
   ]
  },
  {
   "cell_type": "code",
   "execution_count": 4,
   "id": "f135ff9d",
   "metadata": {},
   "outputs": [
    {
     "name": "stdout",
     "output_type": "stream",
     "text": [
      "\n",
      "Before:\n",
      " [[1 2 3]\n",
      " [4 5 6]\n",
      " [7 8 9]]\n",
      "\n",
      "After: \n",
      " [[7 8 9]\n",
      " [4 5 6]\n",
      " [1 2 3]]\n"
     ]
    }
   ],
   "source": [
    "def swap(A, i, j):\n",
    "    \n",
    "    temp_row = deepcopy(A[i])\n",
    "    A[i] = A[j]\n",
    "    A[j] = temp_row\n",
    "    return A\n",
    "\n",
    "A = np.array([\n",
    "    [1, 2, 3],\n",
    "    [4, 5, 6],\n",
    "    [7, 8, 9]\n",
    "])\n",
    "\n",
    "print(f'\\nBefore:\\n {A}\\n')\n",
    "print('After: \\n', swap(A, 0, 2))"
   ]
  },
  {
   "cell_type": "markdown",
   "id": "a737d15d",
   "metadata": {},
   "source": [
    "## Multiplicación por un Escalar\n",
    "\n",
    "Escriba una función que reciba un arreglo de Numpy $A$, el indice de la fila $i$, un escalar $a$, multiplique la fila $i$ de $A$ por $a$ y retorne la matriz elemental correspondiente. "
   ]
  },
  {
   "cell_type": "code",
   "execution_count": 5,
   "id": "673f19b6",
   "metadata": {},
   "outputs": [
    {
     "name": "stdout",
     "output_type": "stream",
     "text": [
      "\n",
      "Before:\n",
      " [[1 2 3]\n",
      " [4 5 6]\n",
      " [7 8 9]]\n",
      "\n",
      "After: \n",
      " [[ 1  2  3]\n",
      " [ 8 10 12]\n",
      " [ 7  8  9]]\n"
     ]
    }
   ],
   "source": [
    "def multiply_row(A, i, a):\n",
    "    \n",
    "    A[i] = [num * a for num in A[i]]    \n",
    "    return A\n",
    "\n",
    "A = np.array([\n",
    "    [1, 2, 3],\n",
    "    [4, 5, 6],\n",
    "    [7, 8, 9]\n",
    "])\n",
    "\n",
    "print(f'\\nBefore:\\n {A}\\n')\n",
    "print('After: \\n', multiply_row(A, 1, 2))"
   ]
  },
  {
   "cell_type": "markdown",
   "id": "61241d84",
   "metadata": {},
   "source": [
    "## Suma de un Múltiplo de una Fila a Otra Fila:\n",
    "\n",
    "Implemente la operación elemental de tipo 3, sumar una fila por un escalar a otra. En este caso recibe como input: $A$, $i$, $j$, $\\alpha$.\n",
    "Para la matriz $A$, sume a la fila $i$ la fila $j$ multiplicada por $\\alpha$. Retorne la matriz elemental asociada.\n"
   ]
  },
  {
   "cell_type": "code",
   "execution_count": 6,
   "id": "9a89c167",
   "metadata": {},
   "outputs": [
    {
     "name": "stdout",
     "output_type": "stream",
     "text": [
      "\n",
      "Before:\n",
      " [[1 2 3]\n",
      " [4 5 6]\n",
      " [7 8 9]]\n",
      "\n",
      "After: \n",
      " [[ 1  2  3]\n",
      " [ 0 -3 -6]\n",
      " [ 7  8  9]]\n"
     ]
    }
   ],
   "source": [
    "def add_row(A, i, j, alpha):\n",
    "    \n",
    "    temp_row = deepcopy(A[j])\n",
    "    temp_row = [num * alpha for num in temp_row]\n",
    "    A[i] = [x + y for x, y in zip(A[i], temp_row)]\n",
    "    return A\n",
    "\n",
    "A = np.array([\n",
    "    [1, 2, 3],\n",
    "    [4, 5, 6],\n",
    "    [7, 8, 9]\n",
    "])\n",
    "\n",
    "print(f'\\nBefore:\\n {A}\\n')\n",
    "print('After: \\n', add_row(A, 1, 0, -4))"
   ]
  },
  {
   "cell_type": "markdown",
   "id": "81b8eb37",
   "metadata": {},
   "source": [
    "\n",
    "\n",
    "## Forma Escalonada por Filas Reducida\n",
    "\n",
    "La forma escalonada por filas reducida es un refinamiento de la forma\n",
    "escalonada por filas en el que además de las propiedades anteriores:\n",
    "\n",
    "1.  El pivote de cada fila es 1.\n",
    "2.  Cada pivote es el único número distinto de cero en su columna.\n",
    "\n"
   ]
  },
  {
   "cell_type": "code",
   "execution_count": 7,
   "id": "12eef880",
   "metadata": {},
   "outputs": [
    {
     "name": "stdout",
     "output_type": "stream",
     "text": [
      "[[ 1.  2.  1.  0. -2.  1.]\n",
      " [ 0.  0.  0.  0.  3.  3.]\n",
      " [ 0.  0.  0.  1.  3.  2.]]\n"
     ]
    }
   ],
   "source": [
    "def next_pivot(A, start_row, start_col):\n",
    "    '''\n",
    "    Dada una matriz A donde se han selecionado pivotes en las filas hasta start_row -1, \n",
    "    y hasta la columna start_col-1.\n",
    "    Lo que significa que los elementos de las filas pivote son 0. Encuentre la posición del siguiente pivote.\n",
    "    '''\n",
    "\n",
    "    rows, cols = A.shape\n",
    "\n",
    "    for col in range(start_col, cols):\n",
    "        for row in range(start_row, rows):\n",
    "            if A[row, col] != 0:\n",
    "                return row, col\n",
    "            \n",
    "    return row, col\n",
    "\n",
    "\n",
    "def clean_column(A, pivot_row, pivot_column):\n",
    "    '''\n",
    "    De la matriz A, usando como pivote la pivot_row, luego de convertirla a 1,\n",
    "    convierta en 0 todas las entradas, diferentes a la pivot_row,\n",
    "    de la pivot_column.\n",
    "\n",
    "    Retorne un arreglo con todas las matrices elementales que representan\n",
    "    las operaciones elementales realizadas.\n",
    "    '''\n",
    "\n",
    "    rows = A.shape[0]\n",
    "    elementals = []\n",
    "\n",
    "    # Convertir pivote a 1\n",
    "    pivot_element = A[pivot_row, pivot_column]\n",
    "    # A[pivot_row] = A[pivot_row] / pivot_element\n",
    "    # print(f'Pivot element: {pivot_element}')\n",
    "    A = multiply_row(A, pivot_row, 1/pivot_element)\n",
    "    elementals.append(deepcopy(A))\n",
    "\n",
    "    # Convertir a 0s el resto de la columna\n",
    "    for row in range(rows):\n",
    "        if row != pivot_row:\n",
    "            factor = A[row, pivot_column]\n",
    "            # A[row] = A[row] - factor * A[pivot_row]\n",
    "            A = add_row(A, row, pivot_row, factor * -1)\n",
    "            elementals.append(deepcopy(A))\n",
    "\n",
    "    return elementals\n",
    "\n",
    "\n",
    "A = np.array([\n",
    "    [1, 2, 1, 2, 4, 5],\n",
    "    [0, 0, 0, 0, 3, 3],\n",
    "    [0, 0, 0, 8, 24, 16]\n",
    "], dtype = float)\n",
    "\n",
    "# Expected i = 2, j = 3\n",
    "i, j = next_pivot(A, 1, 1)\n",
    "# print(i, j)\n",
    "\n",
    "# clean_column(A, i, j)\n",
    "# print(clean_column(A, i, j))\n",
    "print(clean_column(A, i, j)[-1])"
   ]
  },
  {
   "cell_type": "markdown",
   "id": "e775e69c",
   "metadata": {},
   "source": [
    "## RREF\n",
    "\n",
    "Escriba una función que reciba una matriz rectangular $A$.\n",
    "\n",
    "- Compute la forma escalonada reducida por filas para $A$.\n",
    "- Retorne un tensor de $(M, n, n)$ donde $n$ es el número de filas de $A$ tal que $E[-i, :, :]$ contenga la matriz elemental asociada a la $i$-esima operación elemental.\n",
    "\n",
    "Finalmente verifique que el producto de matrices elementales por la izquierda con $A$ es la rref."
   ]
  },
  {
   "cell_type": "code",
   "execution_count": 8,
   "id": "eaee8e17",
   "metadata": {},
   "outputs": [],
   "source": [
    "def rref(A):\n",
    "\n",
    "    rows = A.shape[0]\n",
    "    current_row = 0\n",
    "    current_col = 0\n",
    "    elementals = [deepcopy(A)]\n",
    "    \n",
    "    while current_row < rows:\n",
    "        \n",
    "        pivot_row, pivot_col = next_pivot(A, current_row, current_col)\n",
    "        # print(f'Pivot: {(pivot_row, pivot_col)}')\n",
    "        clean_column(A, pivot_row, pivot_col)\n",
    "        swap(A, current_row, pivot_row)\n",
    "        elementals.append(deepcopy(A))\n",
    "        current_row += 1\n",
    "\n",
    "        # Termina si quedan filas de 0s abajo\n",
    "        if np.all(A[current_row:] == 0):\n",
    "            break\n",
    "\n",
    "    return elementals\n",
    "\n",
    "\n",
    "def check_rref(A):\n",
    "    '''\n",
    "    Dada la matriz A, retorne True si está en forma escalonada reducida por filas\n",
    "    y False en caso contrario.\n",
    "    '''\n",
    "\n",
    "    rows, cols = A.shape\n",
    "    pivot_col = -1\n",
    "\n",
    "    for row in range(rows):\n",
    "        # Encontrar primer elemento distinto a 0\n",
    "        for col in range(cols):\n",
    "            if A[row, col] != 0:\n",
    "                if A[row, col] != 1:\n",
    "                    return False\n",
    "                pivot_col = col\n",
    "                break\n",
    "\n",
    "        # Verificar resto de elementos en la columna\n",
    "        for r in range(rows):\n",
    "            if r != row and A[r, pivot_col] != 0:\n",
    "                return False\n",
    "\n",
    "        # Verificar que elementos a la izquierda y hacia abajo sean 0\n",
    "        if any(A[row, :pivot_col] != 0):\n",
    "            return False\n",
    "        \n",
    "        # Break si solo quedan filas de 0s abajo\n",
    "        if np.all(A[row + 1:] == 0):\n",
    "            break\n",
    "\n",
    "    return True\n"
   ]
  },
  {
   "cell_type": "code",
   "execution_count": 9,
   "id": "7aecaaa9",
   "metadata": {},
   "outputs": [
    {
     "name": "stdout",
     "output_type": "stream",
     "text": [
      "[[ 1.  2.  1.  2.  4.  5.]\n",
      " [ 0.  0.  0.  0.  3.  3.]\n",
      " [ 0.  0.  0.  8. 24. 16.]] \n",
      "\n",
      "RREF: False \n",
      "\n",
      "[[ 1.  2.  1.  2.  4.  5.]\n",
      " [ 0.  0.  0.  0.  3.  3.]\n",
      " [ 0.  0.  0.  8. 24. 16.]] \n",
      "\n",
      "RREF: False \n",
      "\n",
      "[[ 1.  2.  1.  0. -2.  1.]\n",
      " [ 0.  0.  0.  1.  3.  2.]\n",
      " [ 0.  0.  0.  0.  3.  3.]] \n",
      "\n",
      "RREF: False \n",
      "\n",
      "[[ 1.  2.  1.  0.  0.  3.]\n",
      " [ 0.  0.  0.  1.  0. -1.]\n",
      " [ 0.  0.  0.  0.  1.  1.]] \n",
      "\n",
      "RREF: True \n",
      "\n"
     ]
    }
   ],
   "source": [
    "'''\n",
    "Testing de métodos RREF.\n",
    "'''\n",
    "\n",
    "A = np.array([\n",
    "    [1, 2, 1, 2, 4, 5],\n",
    "    [0, 0, 0, 0, 3, 3],\n",
    "    [0, 0, 0, 8, 24, 16]\n",
    "], dtype = float)\n",
    "\n",
    "result = rref(A)\n",
    "\n",
    "for matrix in result:\n",
    "    print(matrix, '\\n')\n",
    "    print(f'RREF: {check_rref(matrix)} \\n')\n"
   ]
  },
  {
   "cell_type": "markdown",
   "id": "be310cf0",
   "metadata": {},
   "source": [
    "Pruebe el método implenetado anteriormente con la matriz:\n",
    "\n",
    "$$\\begin{equation}\n",
    "B = \n",
    "\\begin{bmatrix}\n",
    "1 & 0 & 2 & 2 & 6 & 2 & 0 \\\\\n",
    "1 & 0 & 2 & 2 & 6 & 2 & 0 \\\\\n",
    "-1 & 0 & -2 & 1 & 3 & 1 & 0 \\\\\n",
    "2 & 0 & 4 & 3 & 9 & 3 & 1\n",
    "\\end{bmatrix}\n",
    "\\end{equation}$$\n",
    "\n",
    "en Numpy\n",
    "\n",
    "-   Realice las operaciones elementales necesarias para convertirla en\n",
    "    una rref.\n",
    "-   Guarde las matrices elementales asociadas en un tensor de Numpy.\n",
    "-   Verifique que el producto de matrices elementales con la matriz B es\n",
    "    igual a la rref."
   ]
  },
  {
   "cell_type": "code",
   "execution_count": 10,
   "id": "640b9e63",
   "metadata": {},
   "outputs": [
    {
     "name": "stdout",
     "output_type": "stream",
     "text": [
      "[[ 1.  0.  2.  2.  6.  2.  0.]\n",
      " [ 1.  0.  2.  2.  6.  2.  0.]\n",
      " [-1.  0. -2.  1.  3.  1.  0.]\n",
      " [ 2.  0.  4.  3.  9.  3.  1.]] \n",
      "\n",
      "RREF: False \n",
      "\n",
      "[[ 1.  0.  2.  2.  6.  2.  0.]\n",
      " [ 0.  0.  0.  0.  0.  0.  0.]\n",
      " [ 0.  0.  0.  3.  9.  3.  0.]\n",
      " [ 0.  0.  0. -1. -3. -1.  1.]] \n",
      "\n",
      "RREF: False \n",
      "\n",
      "[[1. 0. 2. 0. 0. 0. 0.]\n",
      " [0. 0. 0. 1. 3. 1. 0.]\n",
      " [0. 0. 0. 0. 0. 0. 0.]\n",
      " [0. 0. 0. 0. 0. 0. 1.]] \n",
      "\n",
      "RREF: False \n",
      "\n",
      "[[1. 0. 2. 0. 0. 0. 0.]\n",
      " [0. 0. 0. 1. 3. 1. 0.]\n",
      " [0. 0. 0. 0. 0. 0. 1.]\n",
      " [0. 0. 0. 0. 0. 0. 0.]] \n",
      "\n",
      "RREF: True \n",
      "\n"
     ]
    }
   ],
   "source": [
    "B = np.array([\n",
    "    [1, 0, 2, 2, 6, 2, 0],\n",
    "    [1, 0, 2, 2, 6, 2, 0],\n",
    "    [-1, 0, -2, 1, 3, 1, 0],\n",
    "    [2, 0, 4, 3, 9, 3, 1]\n",
    "], dtype = float)\n",
    "\n",
    "\n",
    "result = rref(deepcopy(B))\n",
    "\n",
    "for matrix in result:\n",
    "    print(matrix, '\\n')\n",
    "    print(f'RREF: {check_rref(matrix)} \\n')"
   ]
  },
  {
   "cell_type": "code",
   "execution_count": 11,
   "id": "f87b4d83",
   "metadata": {},
   "outputs": [
    {
     "name": "stdout",
     "output_type": "stream",
     "text": [
      "[[ 1.  0. 16.  0.  0.  0.  0.]\n",
      " [ 0.  0.  0.  0.  0.  0.  0.]\n",
      " [ 0.  0.  0.  0.  0.  0.  0.]\n",
      " [ 0.  0.  0. -0. -0. -0.  1.]]\n"
     ]
    }
   ],
   "source": [
    "# TODO: verificacion final\n",
    "\n",
    "for matrix in result[:-1]:\n",
    "    B = B * matrix\n",
    "\n",
    "print(B)"
   ]
  }
 ],
 "metadata": {
  "jupytext": {
   "cell_metadata_filter": "-all",
   "main_language": "python",
   "notebook_metadata_filter": "-all"
  },
  "kernelspec": {
   "display_name": "Python 3",
   "language": "python",
   "name": "python3"
  },
  "language_info": {
   "codemirror_mode": {
    "name": "ipython",
    "version": 3
   },
   "file_extension": ".py",
   "mimetype": "text/x-python",
   "name": "python",
   "nbconvert_exporter": "python",
   "pygments_lexer": "ipython3",
   "version": "3.13.0"
  }
 },
 "nbformat": 4,
 "nbformat_minor": 5
}
