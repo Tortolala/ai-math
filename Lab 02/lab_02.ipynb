{
 "cells": [
  {
   "cell_type": "code",
   "execution_count": null,
   "id": "2f098d9c",
   "metadata": {},
   "outputs": [],
   "source": [
    "import numpy as np\n"
   ]
  },
  {
   "cell_type": "markdown",
   "id": "1da4aeea",
   "metadata": {},
   "source": [
    "# Operaciones Elementales y Matrices Escalonadas\n",
    "\n",
    "## Operaciones Elementales por Filas\n",
    "\n",
    "Las operaciones elementales por filas son transformaciones que se pueden\n",
    "aplicar a las filas de una matriz sin cambiar el conjunto de soluciones\n",
    "del sistema de ecuaciones. Son:\n",
    "\n",
    "1.  **Intercambio de Filas:** Cambiar de posición dos filas de la\n",
    "    matriz.\n",
    "2.  **Multiplicación por un Escalar:** Multiplicar todos los elementos\n",
    "    de una fila por un número distinto de cero.\n",
    "3.  **Suma de un Múltiplo de una Fila a Otra Fila:** Sumar a una fila un\n",
    "    múltiplo de otra fila.\n",
    "\n",
    "Estas operaciones se utilizan para simplificar el sistema de ecuaciones\n",
    "hasta llegar a una forma más fácilmente resoluble.\n",
    "\n",
    "## Intercambio de Filas\n",
    "\n",
    "Escriba una función en Python que reciba un arreglo de Numpy los indices i, j de las filas a intercambiar, intercambie las filas en el arreglo de Numpy y retorne una matriz elemental que represente la opearación realizada."
   ]
  },
  {
   "cell_type": "code",
   "execution_count": null,
   "id": "f135ff9d",
   "metadata": {},
   "outputs": [],
   "source": [
    "# Tarea 1\n",
    "\n",
    "def swap(A, i, j):\n",
    "    \"\"\" \n",
    "       Implemente su función aquí.\n",
    "    \"\"\"\n",
    "    return None\n",
    "\n",
    "A = np.array([\n",
    "    [1, 2, 3],\n",
    "    [4, 5, 6],\n",
    "    [7, 8, 9]\n",
    "])\n",
    "\n",
    "print(swap(A, 0, 2))\n",
    "print(A)"
   ]
  },
  {
   "cell_type": "markdown",
   "id": "a737d15d",
   "metadata": {},
   "source": [
    "## Multiplicación por un Escalar\n",
    "\n",
    "Escriba una función que reciba un arreglo de Numpy A, el indice de la fila i, un escalar a, multiplique la fila i de A por a y retorne la matriz elemental correspondiente. "
   ]
  },
  {
   "cell_type": "code",
   "execution_count": null,
   "id": "673f19b6",
   "metadata": {},
   "outputs": [],
   "source": [
    "def multiply_row(A, i, a):\n",
    "    \"\"\"\n",
    "       Implenete su función aquí.\n",
    "    \"\"\"\n",
    "    return None\n",
    "\n",
    "A = np.array([\n",
    "    [1, 2, 3],\n",
    "    [4, 5, 6],\n",
    "    [7, 8, 9]\n",
    "])\n",
    "\n",
    "print(multiply_row(A, 1, 2))\n",
    "print(A)\n"
   ]
  },
  {
   "cell_type": "markdown",
   "id": "61241d84",
   "metadata": {},
   "source": [
    "## Suma de un Múltiplo de una Fila a Otra Fila:\n",
    "\n",
    "Implemente la operación elemental de tipo 3, sumar una fila por un escalar a otra. En este caso recibe como input: A, i, j, alpha.\n",
    "Para la matriz A, sume a la fila i la fila j multiplicada por alpha. Retorne la matriz elemental asociada.\n"
   ]
  },
  {
   "cell_type": "code",
   "execution_count": null,
   "id": "9a89c167",
   "metadata": {},
   "outputs": [],
   "source": [
    "def add_row(A, i, j, alpha):\n",
    "    # Espacio para su implementación\n",
    "\n",
    "    return None\n",
    "\n",
    "\n",
    "A = np.array([\n",
    "    [1, 2, 3],\n",
    "    [4, 5, 6],\n",
    "    [7, 8, 9]\n",
    "])\n",
    "\n",
    "print(add_row(A, 1, 0, -4))\n",
    "print(A)\n"
   ]
  },
  {
   "cell_type": "markdown",
   "id": "81b8eb37",
   "metadata": {},
   "source": [
    "\n",
    "\n",
    "## Forma Escalonada por Filas Reducida\n",
    "\n",
    "La forma escalonada por filas reducida es un refinamiento de la forma\n",
    "escalonada por filas en el que además de las propiedades anteriores:\n",
    "\n",
    "1.  El pivote de cada fila es 1.\n",
    "2.  Cada pivote es el único número distinto de cero en su columna.\n",
    "\n"
   ]
  },
  {
   "cell_type": "code",
   "execution_count": null,
   "id": "12eef880",
   "metadata": {},
   "outputs": [],
   "source": [
    "def next_pivot(A, start_row, start_col):\n",
    "    \"\"\" Dada una matriz A donde se han selecionado pivotes en las filas hasta start_row -1,\n",
    "        y hasta la columna start_col-1.\n",
    "        lo que significa que los elementos de las filas pivote son 0. Encuentre la posición del siguiente pivote.\n",
    "    \"\"\"\n",
    "    return -1, -1\n",
    "\n",
    "def clean_column(A, pivot_row, pivot_column):\n",
    "    \"\"\"De la matriz A, usando como pivote la pivot_row, luego de convertirla a 1,\n",
    "       convierta en 0 todas las entradas, diferentes a la pivot_row,\n",
    "       de la pivot_column.\n",
    "\n",
    "       Retorne un arreglo con todas las matrices elementales que representan\n",
    "       las operaciones elementales realizadas.\n",
    "    \"\"\"\n",
    "    return E\n",
    "\n",
    "A = np.array([\n",
    "    [1, 2, 1, 2, 4, 5],\n",
    "    [0, 0, 0, 0, 3, 3],\n",
    "    [0, 0, 0, 8, 24, 16]\n",
    "], dtype = float)\n",
    "\n",
    "# Expected i = 2, j = 3\n",
    "i, j = next_pivot(A, 1, 1)\n",
    "\n",
    "clean_column(A, i, j)"
   ]
  },
  {
   "cell_type": "markdown",
   "id": "e775e69c",
   "metadata": {},
   "source": [
    "## RREF\n",
    "\n",
    "Escriba una función que reciba una matriz rectangular A.\n",
    "\n",
    "- Compute la forma escalonada reducida por filas para A.\n",
    "- Retorne un tensor de (M, n, n) donde n es el número de filas de A tal que $E[-i, :, :]$ contenga la matriz elemental asociada a la $i-$esima operación elementa.\n",
    "\n",
    "Finalmente verifique que el producto de matrices elementales por la izquierda con A es la rref."
   ]
  },
  {
   "cell_type": "code",
   "execution_count": null,
   "id": "eaee8e17",
   "metadata": {},
   "outputs": [],
   "source": [
    "def rref(A):\n",
    "    return None\n",
    "\n",
    "def check_rref(A):\n",
    "    \"\"\"\n",
    "       Dada la matriz A, retonre True si está en forma escalonada reducida por filas\n",
    "       y False en caso contrario.\n",
    "    \"\"\"\n",
    "    return False"
   ]
  },
  {
   "cell_type": "markdown",
   "id": "be310cf0",
   "metadata": {},
   "source": [
    "Pruebe el método implenetado anteriormente con la matriz:\n",
    "\n",
    "$$\\begin{equation}\n",
    "B = \n",
    "\\begin{bmatrix}\n",
    "1 & 0 & 2 & 2 & 6 & 2 & 0 \\\\\n",
    "1 & 0 & 2 & 2 & 6 & 2 & 0 \\\\\n",
    "-1 & 0 & -2 & 1 & 3 & 1 & 0 \\\\\n",
    "2 & 0 & 4 & 3 & 9 & 3 & 1\n",
    "\\end{bmatrix}\n",
    "\\end{equation}$$\n",
    "\n",
    "en Numpy\n",
    "\n",
    "-   Realice las operaciones elementales necesarias para convertirla en\n",
    "    una rref.\n",
    "-   Guarde las matrices elementales asociadas en un tensor de Numpy.\n",
    "-   Verifique que el producto de matrices elementales con la matriz B es\n",
    "    igual a la rref."
   ]
  },
  {
   "cell_type": "markdown",
   "id": "786b500c",
   "metadata": {},
   "source": []
  }
 ],
 "metadata": {
  "jupytext": {
   "cell_metadata_filter": "-all",
   "main_language": "python",
   "notebook_metadata_filter": "-all"
  },
  "language_info": {
   "name": "python"
  }
 },
 "nbformat": 4,
 "nbformat_minor": 5
}
