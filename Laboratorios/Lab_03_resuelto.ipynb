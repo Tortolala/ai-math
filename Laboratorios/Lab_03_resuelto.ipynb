{
 "cells": [
  {
   "cell_type": "markdown",
   "metadata": {},
   "source": [
    "# Laboratorio 3\n",
    "\n",
    "**Nombre:** Luis Angel Tórtola  \n",
    "**Carnet:** 25007713\n",
    "\n",
    "---\n"
   ]
  },
  {
   "cell_type": "code",
   "execution_count": 2,
   "metadata": {},
   "outputs": [],
   "source": [
    "from sympy import Matrix\n",
    "import numpy as np"
   ]
  },
  {
   "cell_type": "markdown",
   "metadata": {},
   "source": [
    "## Vectores Linealmente Independientes\n",
    "\n",
    "Para encontrar un conjunto de vectores linealmente independientes a partir de un conjunto dado de vectores columna utilizando la forma escalonada reducida (RREF), puedes seguir estos pasos:\n",
    "\n",
    "1. **Formar una Matriz:** Organiza los vectores columna dados como columnas de una matriz, resultando en una matriz \\(A\\).\n",
    "\n",
    "2. **Calcular la RREF:** Usa eliminación gaussiana o un algoritmo adecuado para transformar esta matriz \\(A\\) a su forma escalonada reducida (RREF). La RREF es una representación única de la matriz donde cada entrada principal de una fila es 1 y es la única entrada no cero en su columna, entre otras propiedades.\n",
    "\n",
    "3. **Identificar Columnas Pivote:** En la RREF, identifica las columnas pivote—estas son las columnas con unos líderes. Las posiciones de estos unos indican qué columnas de la matriz original \\(A\\) forman parte de un conjunto linealmente independiente.\n",
    "\n",
    "4. **Seleccionar Vectores Correspondientes:** Los vectores columna en la matriz original \\(A\\) que corresponden a las columnas pivote en la RREF forman un conjunto linealmente independiente.\n",
    "\n",
    "Utiliza sympy y Numpy para construir una función que reciba un conjunto de vectores columna y extraiga un conjunto de vectores linealmente independientes."
   ]
  },
  {
   "cell_type": "code",
   "execution_count": 3,
   "metadata": {},
   "outputs": [
    {
     "name": "stdout",
     "output_type": "stream",
     "text": [
      "\n",
      "Vectores linealmente independientes: \n",
      " [[1 2]\n",
      " [2 1]\n",
      " [1 1]\n",
      " [1 3]\n",
      " [0 1]]\n"
     ]
    }
   ],
   "source": [
    "def li_subset(S):\n",
    "    '''\n",
    "       Retorne una matriz con columnas l.i.\n",
    "    '''\n",
    "\n",
    "    A = Matrix(S)\n",
    "    _, pivot_columns = A.rref()\n",
    "    # print(pivot_columns)\n",
    "    li_columns = S[:, list(pivot_columns)]\n",
    "    \n",
    "    return li_columns\n",
    "\n",
    "S = np.array([[1, -1, 2,  1],\n",
    "              [2, -2, 1, -1],\n",
    "              [1, -1, 1, 0],\n",
    "              [1, -1, 3, 2],\n",
    "              [0,  0, 1, 1]])\n",
    "\n",
    "print(f'\\nVectores linealmente independientes: \\n {li_subset(S)}')"
   ]
  },
  {
   "cell_type": "markdown",
   "metadata": {},
   "source": [
    "## Ecuaciones Subespacio\n",
    "\n",
    "Dado un conjunto l.i. (de $n$ vectores de dimensión $m$) es posible construir un operador (matriz) que permite determinar si un vector pertenece o no al espacio generado por los vectores. Esto puede realizarce usando:\n",
    "$$\n",
    "\\begin{pmatrix}\n",
    "A & I_m\n",
    "\\end{pmatrix}\n",
    "$$\n",
    "al calcular la forma escalonada reducida se obtiene una forma:\n",
    "$$\n",
    "\\begin{pmatrix}\n",
    "   I_n & P \\\\\n",
    "   0 & R\n",
    "\\end{pmatrix}\n",
    "$$\n",
    "Donde $R$ representa las ecuaciones que caracterizan el espacio generado.\n",
    "\n",
    "Construya una función que retorne una función, que retorne True si un vector pertenece al espacio generado por un conjunto de vectores l.i. $S$ y False en caso contrario."
   ]
  },
  {
   "cell_type": "code",
   "execution_count": 18,
   "metadata": {},
   "outputs": [
    {
     "name": "stdout",
     "output_type": "stream",
     "text": [
      "True\n",
      "False\n"
     ]
    }
   ],
   "source": [
    "def in_subspace(S):\n",
    "    '''\n",
    "       Retorne la función check(x),\n",
    "       usando la matriz R.\n",
    "    '''\n",
    "\n",
    "    def check(x):\n",
    "        \n",
    "        A = Matrix(S)      \n",
    "        x_ = Matrix(x)   \n",
    "        M = A.row_join(x_) \n",
    "        \n",
    "        return A.rank() == M.rank()\n",
    "    \n",
    "    return check\n",
    "\n",
    "# Testing de función\n",
    "S = np.array([[1, -1, 2,  1],\n",
    "              [2, -2, 1, -1],\n",
    "              [1, -1, 1, 0],\n",
    "              [1, -1, 3, 2],\n",
    "              [0,  0, 1, 1]])\n",
    "\n",
    "S_li = li_subset(S)\n",
    "check_s = in_subspace(S_li)\n",
    "\n",
    "print(check_s(np.array([1, 2, 1, 1, 0])))\n",
    "print(check_s(np.array([1, 2, 1, 1, 4])))\n"
   ]
  },
  {
   "cell_type": "markdown",
   "metadata": {},
   "source": [
    "# Coordenadas Respecto a Base\n",
    "\n",
    "Dado un conjunto l.i. es posible construir un operador (matriz) que permite expresar cualquier vector en función de los vectores l.i.\n",
    "$$\n",
    "\\begin{pmatrix}\n",
    "A & I\n",
    "\\end{pmatrix}\n",
    "$$\n",
    "al calcular la forma escalonada reducida se obtiene una forma:\n",
    "$$\n",
    "\\begin{pmatrix}\n",
    "   A' & P \\\\\n",
    "   0 & R\n",
    "\\end{pmatrix}\n",
    "$$\n",
    "\n",
    "La matriz $P$ puede ser usada para recuperar las coordenadas de un vector $x$.\n",
    "\n",
    "Escriba una función que retorne una función, coor(x) que retorne las coordenadas de un vector respecto $x$ respecto de la base de vectores l.i. dada en $A$."
   ]
  },
  {
   "cell_type": "code",
   "execution_count": 23,
   "metadata": {},
   "outputs": [
    {
     "name": "stdout",
     "output_type": "stream",
     "text": [
      "\n",
      "Vector de prueba: [1 2 1 1 0]\n",
      "\n",
      "Pertenece al subespacio:  True\n",
      "\n",
      "Coordenadas de v en S_li: Matrix([[1], [0]])\n"
     ]
    }
   ],
   "source": [
    "def get_coor(S):\n",
    "    '''\n",
    "       Retorne la función coor(x), usando la matriz R.\n",
    "    '''\n",
    "    \n",
    "    def coor(x):\n",
    "        A = Matrix(S)\n",
    "        x_ = Matrix(x)\n",
    "        M = A.row_join(x_)\n",
    "        \n",
    "        M_rref, pivot_cols = M.rref()\n",
    "        n = A.shape[1]\n",
    "        coords = M_rref[:n, -1]\n",
    "        \n",
    "        return coords\n",
    "    \n",
    "    return coor\n",
    "\n",
    "\n",
    "# Testing de función\n",
    "S_li = li_subset(S)\n",
    "check_s = in_subspace(S_li)\n",
    "coor_s = get_coor(S_li)\n",
    "v = np.array([1, 2, 1, 1, 0])\n",
    "\n",
    "print('\\nVector de prueba:', v)\n",
    "print('\\nPertenece al subespacio: ', check_s(v))\n",
    "\n",
    "if check_s(v):\n",
    "    coords_v = coor_s(v)\n",
    "    print(f'\\nCoordenadas de v en S_li: {coords_v}')\n",
    "else:\n",
    "    print('\\nEl vector no está en el subespacio generado por S_li.')\n"
   ]
  },
  {
   "cell_type": "markdown",
   "metadata": {},
   "source": [
    "---"
   ]
  }
 ],
 "metadata": {
  "kernelspec": {
   "display_name": "Python 3",
   "language": "python",
   "name": "python3"
  },
  "language_info": {
   "codemirror_mode": {
    "name": "ipython",
    "version": 3
   },
   "file_extension": ".py",
   "mimetype": "text/x-python",
   "name": "python",
   "nbconvert_exporter": "python",
   "pygments_lexer": "ipython3",
   "version": "3.13.0"
  }
 },
 "nbformat": 4,
 "nbformat_minor": 2
}
